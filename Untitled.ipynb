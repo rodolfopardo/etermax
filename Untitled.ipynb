{
 "cells": [
  {
   "cell_type": "markdown",
   "metadata": {},
   "source": [
    "<h2><font color=blue>Desafío técnico Etermax </h2><br><h3><strong>Objetivo</strong> </h3><br>El objetivo del ejercicio es hacer un análisis del dataset y presentar insights y accionables que el candidato considere valiosos.<br>Autor: <strong>Rodolfo Pardo</strong></font>"
   ]
  },
  {
   "cell_type": "markdown",
   "metadata": {},
   "source": [
    "---------"
   ]
  },
  {
   "cell_type": "markdown",
   "metadata": {},
   "source": [
    "<h4>Exploration</h4>"
   ]
  },
  {
   "cell_type": "code",
   "execution_count": 2,
   "metadata": {},
   "outputs": [],
   "source": [
    "#Se importan las librerías necesarias para el estudio\n",
    "\n",
    "import pandas as pd\n",
    "import numpy as np \n",
    "import matplotlib.pyplot as plt \n",
    "import seaborn as sns \n",
    "sns.set(rc={'figure.figsize':(11.7,8.27)})\n",
    "\n",
    "import warnings\n",
    "warnings.filterwarnings('ignore')"
   ]
  },
  {
   "cell_type": "code",
   "execution_count": 3,
   "metadata": {},
   "outputs": [],
   "source": [
    "#Se lee dataset \n",
    "\n",
    "juego = pd.read_csv('dataset.csv')"
   ]
  },
  {
   "cell_type": "code",
   "execution_count": 7,
   "metadata": {},
   "outputs": [
    {
     "name": "stdout",
     "output_type": "stream",
     "text": [
      "Tenemos un dataset de 20000 filas con 14 variables para analizar\n"
     ]
    }
   ],
   "source": [
    "#Se conoce las dimensiones de nuestro dataset\n",
    "\n",
    "print('Tenemos un dataset de {} filas con {} variables para analizar'.format(juego.shape[0], juego.shape[1]))"
   ]
  },
  {
   "cell_type": "code",
   "execution_count": 9,
   "metadata": {},
   "outputs": [
    {
     "name": "stdout",
     "output_type": "stream",
     "text": [
      "<class 'pandas.core.frame.DataFrame'>\n",
      "RangeIndex: 20000 entries, 0 to 19999\n",
      "Data columns (total 14 columns):\n",
      " #   Column                  Non-Null Count  Dtype \n",
      "---  ------                  --------------  ----- \n",
      " 0   user_id                 20000 non-null  object\n",
      " 1   install_time            20000 non-null  object\n",
      " 2   platform                20000 non-null  object\n",
      " 3   country_region          19521 non-null  object\n",
      " 4   city                    19065 non-null  object\n",
      " 5   gender                  20000 non-null  object\n",
      " 6   min_age_range           20000 non-null  int64 \n",
      " 7   max_age_range           20000 non-null  int64 \n",
      " 8   event_1                 20000 non-null  int64 \n",
      " 9   event_2                 20000 non-null  int64 \n",
      " 10  event_3                 20000 non-null  int64 \n",
      " 11  event_4                 20000 non-null  int64 \n",
      " 12  event_5                 20000 non-null  int64 \n",
      " 13  target_churn_indicator  20000 non-null  int64 \n",
      "dtypes: int64(8), object(6)\n",
      "memory usage: 2.1+ MB\n"
     ]
    }
   ],
   "source": [
    "#Se conocen los tipos de datasets presentes \n",
    "\n",
    "juego.info()"
   ]
  },
  {
   "cell_type": "markdown",
   "metadata": {},
   "source": [
    "<p>Podemos observar un <strong>dataset</strong> que contiene columnas con tipos de datos <strong><font color=red>incorrectos</font></strong> tales como install_time "
   ]
  },
  {
   "cell_type": "code",
   "execution_count": 13,
   "metadata": {},
   "outputs": [
    {
     "data": {
      "text/html": [
       "<div>\n",
       "<style scoped>\n",
       "    .dataframe tbody tr th:only-of-type {\n",
       "        vertical-align: middle;\n",
       "    }\n",
       "\n",
       "    .dataframe tbody tr th {\n",
       "        vertical-align: top;\n",
       "    }\n",
       "\n",
       "    .dataframe thead th {\n",
       "        text-align: right;\n",
       "    }\n",
       "</style>\n",
       "<table border=\"1\" class=\"dataframe\">\n",
       "  <thead>\n",
       "    <tr style=\"text-align: right;\">\n",
       "      <th></th>\n",
       "      <th>user_id</th>\n",
       "      <th>install_time</th>\n",
       "      <th>platform</th>\n",
       "      <th>country_region</th>\n",
       "      <th>city</th>\n",
       "      <th>gender</th>\n",
       "      <th>min_age_range</th>\n",
       "      <th>max_age_range</th>\n",
       "      <th>event_1</th>\n",
       "      <th>event_2</th>\n",
       "      <th>event_3</th>\n",
       "      <th>event_4</th>\n",
       "      <th>event_5</th>\n",
       "      <th>target_churn_indicator</th>\n",
       "    </tr>\n",
       "  </thead>\n",
       "  <tbody>\n",
       "    <tr>\n",
       "      <th>0</th>\n",
       "      <td>2ba6f357</td>\n",
       "      <td>2018-07-04 19:24:24</td>\n",
       "      <td>Android</td>\n",
       "      <td>Santa Cruz</td>\n",
       "      <td>Río Gallegos</td>\n",
       "      <td>male</td>\n",
       "      <td>13</td>\n",
       "      <td>17</td>\n",
       "      <td>1</td>\n",
       "      <td>2</td>\n",
       "      <td>0</td>\n",
       "      <td>1</td>\n",
       "      <td>1</td>\n",
       "      <td>0</td>\n",
       "    </tr>\n",
       "    <tr>\n",
       "      <th>1</th>\n",
       "      <td>3cb936c1</td>\n",
       "      <td>2018-06-30 13:41:29</td>\n",
       "      <td>Android</td>\n",
       "      <td>Corrientes</td>\n",
       "      <td>Corrientes</td>\n",
       "      <td>male</td>\n",
       "      <td>13</td>\n",
       "      <td>17</td>\n",
       "      <td>0</td>\n",
       "      <td>7</td>\n",
       "      <td>0</td>\n",
       "      <td>3</td>\n",
       "      <td>0</td>\n",
       "      <td>1</td>\n",
       "    </tr>\n",
       "    <tr>\n",
       "      <th>2</th>\n",
       "      <td>17d88bbc</td>\n",
       "      <td>2018-06-30 16:02:30</td>\n",
       "      <td>Android</td>\n",
       "      <td>Cordoba</td>\n",
       "      <td>Villa Carlos Paz</td>\n",
       "      <td>female</td>\n",
       "      <td>18</td>\n",
       "      <td>20</td>\n",
       "      <td>2</td>\n",
       "      <td>1</td>\n",
       "      <td>0</td>\n",
       "      <td>2</td>\n",
       "      <td>2</td>\n",
       "      <td>1</td>\n",
       "    </tr>\n",
       "    <tr>\n",
       "      <th>3</th>\n",
       "      <td>7baa10b6</td>\n",
       "      <td>2018-07-02 21:08:33</td>\n",
       "      <td>Android</td>\n",
       "      <td>Buenos Aires</td>\n",
       "      <td>Don Torcuato</td>\n",
       "      <td>female</td>\n",
       "      <td>13</td>\n",
       "      <td>17</td>\n",
       "      <td>5</td>\n",
       "      <td>6</td>\n",
       "      <td>0</td>\n",
       "      <td>2</td>\n",
       "      <td>5</td>\n",
       "      <td>0</td>\n",
       "    </tr>\n",
       "    <tr>\n",
       "      <th>4</th>\n",
       "      <td>120d379</td>\n",
       "      <td>2018-07-07 04:18:47</td>\n",
       "      <td>Android</td>\n",
       "      <td>Santiago del Estero</td>\n",
       "      <td>Santiago del Estero</td>\n",
       "      <td>female</td>\n",
       "      <td>13</td>\n",
       "      <td>17</td>\n",
       "      <td>8</td>\n",
       "      <td>12</td>\n",
       "      <td>0</td>\n",
       "      <td>2</td>\n",
       "      <td>3</td>\n",
       "      <td>0</td>\n",
       "    </tr>\n",
       "  </tbody>\n",
       "</table>\n",
       "</div>"
      ],
      "text/plain": [
       "    user_id         install_time platform       country_region  \\\n",
       "0  2ba6f357  2018-07-04 19:24:24  Android           Santa Cruz   \n",
       "1  3cb936c1  2018-06-30 13:41:29  Android           Corrientes   \n",
       "2  17d88bbc  2018-06-30 16:02:30  Android              Cordoba   \n",
       "3  7baa10b6  2018-07-02 21:08:33  Android         Buenos Aires   \n",
       "4   120d379  2018-07-07 04:18:47  Android  Santiago del Estero   \n",
       "\n",
       "                  city  gender  min_age_range  max_age_range  event_1  \\\n",
       "0         Río Gallegos    male             13             17        1   \n",
       "1           Corrientes    male             13             17        0   \n",
       "2     Villa Carlos Paz  female             18             20        2   \n",
       "3         Don Torcuato  female             13             17        5   \n",
       "4  Santiago del Estero  female             13             17        8   \n",
       "\n",
       "   event_2  event_3  event_4  event_5  target_churn_indicator  \n",
       "0        2        0        1        1                       0  \n",
       "1        7        0        3        0                       1  \n",
       "2        1        0        2        2                       1  \n",
       "3        6        0        2        5                       0  \n",
       "4       12        0        2        3                       0  "
      ]
     },
     "execution_count": 13,
     "metadata": {},
     "output_type": "execute_result"
    }
   ],
   "source": [
    "juego.head()"
   ]
  },
  {
   "cell_type": "code",
   "execution_count": 17,
   "metadata": {},
   "outputs": [
    {
     "data": {
      "text/html": [
       "<div>\n",
       "<style scoped>\n",
       "    .dataframe tbody tr th:only-of-type {\n",
       "        vertical-align: middle;\n",
       "    }\n",
       "\n",
       "    .dataframe tbody tr th {\n",
       "        vertical-align: top;\n",
       "    }\n",
       "\n",
       "    .dataframe thead th {\n",
       "        text-align: right;\n",
       "    }\n",
       "</style>\n",
       "<table border=\"1\" class=\"dataframe\">\n",
       "  <thead>\n",
       "    <tr style=\"text-align: right;\">\n",
       "      <th></th>\n",
       "      <th>user_id</th>\n",
       "      <th>install_time</th>\n",
       "      <th>platform</th>\n",
       "      <th>country_region</th>\n",
       "      <th>city</th>\n",
       "      <th>gender</th>\n",
       "      <th>min_age_range</th>\n",
       "      <th>max_age_range</th>\n",
       "      <th>event_1</th>\n",
       "      <th>event_2</th>\n",
       "      <th>event_3</th>\n",
       "      <th>event_4</th>\n",
       "      <th>event_5</th>\n",
       "      <th>target_churn_indicator</th>\n",
       "    </tr>\n",
       "  </thead>\n",
       "  <tbody>\n",
       "    <tr>\n",
       "      <th>4245</th>\n",
       "      <td>75d198ce</td>\n",
       "      <td>2018-07-01 03:24:22</td>\n",
       "      <td>Android</td>\n",
       "      <td>Buenos Aires F.D.</td>\n",
       "      <td>Buenos Aires</td>\n",
       "      <td>male</td>\n",
       "      <td>18</td>\n",
       "      <td>20</td>\n",
       "      <td>0</td>\n",
       "      <td>0</td>\n",
       "      <td>0</td>\n",
       "      <td>1</td>\n",
       "      <td>0</td>\n",
       "      <td>0</td>\n",
       "    </tr>\n",
       "    <tr>\n",
       "      <th>6101</th>\n",
       "      <td>75d198ce</td>\n",
       "      <td>2018-07-01 03:24:22</td>\n",
       "      <td>Android</td>\n",
       "      <td>Buenos Aires</td>\n",
       "      <td>Don Torcuato</td>\n",
       "      <td>male</td>\n",
       "      <td>18</td>\n",
       "      <td>20</td>\n",
       "      <td>20</td>\n",
       "      <td>25</td>\n",
       "      <td>2</td>\n",
       "      <td>1</td>\n",
       "      <td>7</td>\n",
       "      <td>0</td>\n",
       "    </tr>\n",
       "    <tr>\n",
       "      <th>10113</th>\n",
       "      <td>75d198ce</td>\n",
       "      <td>2018-07-01 03:24:22</td>\n",
       "      <td>Android</td>\n",
       "      <td>Buenos Aires F.D.</td>\n",
       "      <td>Villa del Parque</td>\n",
       "      <td>male</td>\n",
       "      <td>18</td>\n",
       "      <td>20</td>\n",
       "      <td>18</td>\n",
       "      <td>39</td>\n",
       "      <td>0</td>\n",
       "      <td>4</td>\n",
       "      <td>5</td>\n",
       "      <td>0</td>\n",
       "    </tr>\n",
       "    <tr>\n",
       "      <th>11506</th>\n",
       "      <td>75d198ce</td>\n",
       "      <td>2018-07-01 03:24:22</td>\n",
       "      <td>Android</td>\n",
       "      <td>Buenos Aires</td>\n",
       "      <td>Lanus</td>\n",
       "      <td>male</td>\n",
       "      <td>18</td>\n",
       "      <td>20</td>\n",
       "      <td>4</td>\n",
       "      <td>4</td>\n",
       "      <td>0</td>\n",
       "      <td>5</td>\n",
       "      <td>1</td>\n",
       "      <td>0</td>\n",
       "    </tr>\n",
       "  </tbody>\n",
       "</table>\n",
       "</div>"
      ],
      "text/plain": [
       "        user_id         install_time platform     country_region  \\\n",
       "4245   75d198ce  2018-07-01 03:24:22  Android  Buenos Aires F.D.   \n",
       "6101   75d198ce  2018-07-01 03:24:22  Android       Buenos Aires   \n",
       "10113  75d198ce  2018-07-01 03:24:22  Android  Buenos Aires F.D.   \n",
       "11506  75d198ce  2018-07-01 03:24:22  Android       Buenos Aires   \n",
       "\n",
       "                   city gender  min_age_range  max_age_range  event_1  \\\n",
       "4245       Buenos Aires   male             18             20        0   \n",
       "6101       Don Torcuato   male             18             20       20   \n",
       "10113  Villa del Parque   male             18             20       18   \n",
       "11506             Lanus   male             18             20        4   \n",
       "\n",
       "       event_2  event_3  event_4  event_5  target_churn_indicator  \n",
       "4245         0        0        1        0                       0  \n",
       "6101        25        2        1        7                       0  \n",
       "10113       39        0        4        5                       0  \n",
       "11506        4        0        5        1                       0  "
      ]
     },
     "execution_count": 17,
     "metadata": {},
     "output_type": "execute_result"
    }
   ],
   "source": [
    "juego[juego['user_id']== \"75d198ce\"]"
   ]
  },
  {
   "cell_type": "code",
   "execution_count": 26,
   "metadata": {},
   "outputs": [
    {
     "data": {
      "text/plain": [
       "count    20000.000000\n",
       "mean        16.145300\n",
       "std          2.420017\n",
       "min         13.000000\n",
       "25%         13.000000\n",
       "50%         18.000000\n",
       "75%         18.000000\n",
       "max         21.000000\n",
       "Name: min_age_range, dtype: float64"
      ]
     },
     "execution_count": 26,
     "metadata": {},
     "output_type": "execute_result"
    }
   ],
   "source": [
    "juego['min_age_range'].describe()"
   ]
  },
  {
   "cell_type": "code",
   "execution_count": 27,
   "metadata": {},
   "outputs": [
    {
     "data": {
      "text/plain": [
       "count    20000.000000\n",
       "mean        18.884050\n",
       "std          1.450452\n",
       "min         13.000000\n",
       "25%         17.000000\n",
       "50%         20.000000\n",
       "75%         20.000000\n",
       "max         20.000000\n",
       "Name: max_age_range, dtype: float64"
      ]
     },
     "execution_count": 27,
     "metadata": {},
     "output_type": "execute_result"
    }
   ],
   "source": [
    "juego['max_age_range'].describe()"
   ]
  },
  {
   "cell_type": "code",
   "execution_count": 29,
   "metadata": {},
   "outputs": [
    {
     "data": {
      "text/plain": [
       "<matplotlib.axes._subplots.AxesSubplot at 0x1a1ef71c18>"
      ]
     },
     "execution_count": 29,
     "metadata": {},
     "output_type": "execute_result"
    },
    {
     "data": {
      "image/png": "[encoded data removed]",
      "text/plain": [
       "<Figure size 842.4x595.44 with 1 Axes>"
      ]
     },
     "metadata": {},
     "output_type": "display_data"
    }
   ],
   "source": [
    "sns.boxplot(juego['max_age_range'])"
   ]
  },
  {
   "cell_type": "code",
   "execution_count": 31,
   "metadata": {},
   "outputs": [
    {
     "data": {
      "text/plain": [
       "1    0.5407\n",
       "0    0.4593\n",
       "Name: target_churn_indicator, dtype: float64"
      ]
     },
     "execution_count": 31,
     "metadata": {},
     "output_type": "execute_result"
    }
   ],
   "source": [
    "juego['target_churn_indicator'].value_counts(normalize = True)"
   ]
  },
  {
   "cell_type": "code",
   "execution_count": null,
   "metadata": {},
   "outputs": [],
   "source": []
  }
 ],
 "metadata": {
  "kernelspec": {
   "display_name": "Python 3",
   "language": "python",
   "name": "python3"
  },
  "language_info": {
   "codemirror_mode": {
    "name": "ipython",
    "version": 3
   },
   "file_extension": ".py",
   "mimetype": "text/x-python",
   "name": "python",
   "nbconvert_exporter": "python",
   "pygments_lexer": "ipython3",
   "version": "3.6.9"
  }
 },
 "nbformat": 4,
 "nbformat_minor": 4
}
