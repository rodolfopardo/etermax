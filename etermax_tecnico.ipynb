{
 "cells": [
  {
   "cell_type": "markdown",
   "metadata": {},
   "source": [
    "<h2><font color=blue>Desafío técnico Etermax </h2><br><h3><strong>Objetivo</strong> </h3><br>El objetivo del ejercicio es hacer un análisis del dataset y presentar insights y accionables que el candidato considere valiosos.<br>Autor: <strong>Rodolfo Pardo</strong></font>"
   ]
  },
  {
   "cell_type": "markdown",
   "metadata": {},
   "source": [
    "---------"
   ]
  },
  {
   "cell_type": "markdown",
   "metadata": {},
   "source": [
    "<h2>First step: Data Exploration</h2>"
   ]
  },
  {
   "cell_type": "code",
   "execution_count": 58,
   "metadata": {},
   "outputs": [],
   "source": [
    "#Se importan las librerías necesarias para el estudio\n",
    "\n",
    "import pandas as pd\n",
    "import numpy as np \n",
    "import matplotlib.pyplot as plt \n",
    "import seaborn as sns \n",
    "sns.set(rc={'figure.figsize':(11.7,8.27)})\n",
    "sns.set_style(\"whitegrid\")\n",
    "\n",
    "import warnings\n",
    "warnings.filterwarnings('ignore')"
   ]
  },
  {
   "cell_type": "code",
   "execution_count": 2,
   "metadata": {},
   "outputs": [],
   "source": [
    "#Se lee dataset \n",
    "\n",
    "juego = pd.read_csv('dataset.csv')"
   ]
  },
  {
   "cell_type": "code",
   "execution_count": 3,
   "metadata": {},
   "outputs": [
    {
     "name": "stdout",
     "output_type": "stream",
     "text": [
      "Tenemos un dataset de 20000 filas con 14 variables para analizar\n"
     ]
    }
   ],
   "source": [
    "#Se conoce las dimensiones de nuestro dataset\n",
    "\n",
    "print('Tenemos un dataset de {} filas con {} variables para analizar'.format(juego.shape[0], juego.shape[1]))"
   ]
  },
  {
   "cell_type": "code",
   "execution_count": 4,
   "metadata": {},
   "outputs": [
    {
     "name": "stdout",
     "output_type": "stream",
     "text": [
      "<class 'pandas.core.frame.DataFrame'>\n",
      "RangeIndex: 20000 entries, 0 to 19999\n",
      "Data columns (total 14 columns):\n",
      " #   Column                  Non-Null Count  Dtype \n",
      "---  ------                  --------------  ----- \n",
      " 0   user_id                 20000 non-null  object\n",
      " 1   install_time            20000 non-null  object\n",
      " 2   platform                20000 non-null  object\n",
      " 3   country_region          19521 non-null  object\n",
      " 4   city                    19065 non-null  object\n",
      " 5   gender                  20000 non-null  object\n",
      " 6   min_age_range           20000 non-null  int64 \n",
      " 7   max_age_range           20000 non-null  int64 \n",
      " 8   event_1                 20000 non-null  int64 \n",
      " 9   event_2                 20000 non-null  int64 \n",
      " 10  event_3                 20000 non-null  int64 \n",
      " 11  event_4                 20000 non-null  int64 \n",
      " 12  event_5                 20000 non-null  int64 \n",
      " 13  target_churn_indicator  20000 non-null  int64 \n",
      "dtypes: int64(8), object(6)\n",
      "memory usage: 2.1+ MB\n"
     ]
    }
   ],
   "source": [
    "#Se conocen los tipos de datasets presentes \n",
    "\n",
    "juego.info()"
   ]
  },
  {
   "cell_type": "markdown",
   "metadata": {},
   "source": [
    "<p>Podemos observar un <strong>dataset</strong> que contiene columnas con tipos de datos <strong><font color=red>incorrectos</font></strong> tales como install_time "
   ]
  },
  {
   "cell_type": "code",
   "execution_count": 5,
   "metadata": {},
   "outputs": [
    {
     "data": {
      "text/html": [
       "<div>\n",
       "<style scoped>\n",
       "    .dataframe tbody tr th:only-of-type {\n",
       "        vertical-align: middle;\n",
       "    }\n",
       "\n",
       "    .dataframe tbody tr th {\n",
       "        vertical-align: top;\n",
       "    }\n",
       "\n",
       "    .dataframe thead th {\n",
       "        text-align: right;\n",
       "    }\n",
       "</style>\n",
       "<table border=\"1\" class=\"dataframe\">\n",
       "  <thead>\n",
       "    <tr style=\"text-align: right;\">\n",
       "      <th></th>\n",
       "      <th>min_age_range</th>\n",
       "      <th>max_age_range</th>\n",
       "      <th>event_1</th>\n",
       "      <th>event_2</th>\n",
       "      <th>event_3</th>\n",
       "      <th>event_4</th>\n",
       "      <th>event_5</th>\n",
       "      <th>target_churn_indicator</th>\n",
       "    </tr>\n",
       "  </thead>\n",
       "  <tbody>\n",
       "    <tr>\n",
       "      <th>count</th>\n",
       "      <td>20000.000000</td>\n",
       "      <td>20000.000000</td>\n",
       "      <td>20000.000000</td>\n",
       "      <td>20000.00000</td>\n",
       "      <td>20000.000000</td>\n",
       "      <td>20000.000000</td>\n",
       "      <td>20000.000000</td>\n",
       "      <td>20000.000000</td>\n",
       "    </tr>\n",
       "    <tr>\n",
       "      <th>mean</th>\n",
       "      <td>16.145300</td>\n",
       "      <td>18.884050</td>\n",
       "      <td>13.751700</td>\n",
       "      <td>18.80975</td>\n",
       "      <td>0.526850</td>\n",
       "      <td>4.341200</td>\n",
       "      <td>4.452500</td>\n",
       "      <td>0.540700</td>\n",
       "    </tr>\n",
       "    <tr>\n",
       "      <th>std</th>\n",
       "      <td>2.420017</td>\n",
       "      <td>1.450452</td>\n",
       "      <td>19.041115</td>\n",
       "      <td>26.93790</td>\n",
       "      <td>1.245695</td>\n",
       "      <td>4.218456</td>\n",
       "      <td>4.506946</td>\n",
       "      <td>0.498353</td>\n",
       "    </tr>\n",
       "    <tr>\n",
       "      <th>min</th>\n",
       "      <td>13.000000</td>\n",
       "      <td>13.000000</td>\n",
       "      <td>0.000000</td>\n",
       "      <td>0.00000</td>\n",
       "      <td>0.000000</td>\n",
       "      <td>0.000000</td>\n",
       "      <td>0.000000</td>\n",
       "      <td>0.000000</td>\n",
       "    </tr>\n",
       "    <tr>\n",
       "      <th>25%</th>\n",
       "      <td>13.000000</td>\n",
       "      <td>17.000000</td>\n",
       "      <td>2.000000</td>\n",
       "      <td>3.00000</td>\n",
       "      <td>0.000000</td>\n",
       "      <td>1.000000</td>\n",
       "      <td>2.000000</td>\n",
       "      <td>0.000000</td>\n",
       "    </tr>\n",
       "    <tr>\n",
       "      <th>50%</th>\n",
       "      <td>18.000000</td>\n",
       "      <td>20.000000</td>\n",
       "      <td>6.000000</td>\n",
       "      <td>9.00000</td>\n",
       "      <td>0.000000</td>\n",
       "      <td>3.000000</td>\n",
       "      <td>3.000000</td>\n",
       "      <td>1.000000</td>\n",
       "    </tr>\n",
       "    <tr>\n",
       "      <th>75%</th>\n",
       "      <td>18.000000</td>\n",
       "      <td>20.000000</td>\n",
       "      <td>18.000000</td>\n",
       "      <td>24.00000</td>\n",
       "      <td>1.000000</td>\n",
       "      <td>6.000000</td>\n",
       "      <td>6.000000</td>\n",
       "      <td>1.000000</td>\n",
       "    </tr>\n",
       "    <tr>\n",
       "      <th>max</th>\n",
       "      <td>21.000000</td>\n",
       "      <td>20.000000</td>\n",
       "      <td>218.000000</td>\n",
       "      <td>437.00000</td>\n",
       "      <td>20.000000</td>\n",
       "      <td>56.000000</td>\n",
       "      <td>64.000000</td>\n",
       "      <td>1.000000</td>\n",
       "    </tr>\n",
       "  </tbody>\n",
       "</table>\n",
       "</div>"
      ],
      "text/plain": [
       "       min_age_range  max_age_range       event_1      event_2       event_3  \\\n",
       "count   20000.000000   20000.000000  20000.000000  20000.00000  20000.000000   \n",
       "mean       16.145300      18.884050     13.751700     18.80975      0.526850   \n",
       "std         2.420017       1.450452     19.041115     26.93790      1.245695   \n",
       "min        13.000000      13.000000      0.000000      0.00000      0.000000   \n",
       "25%        13.000000      17.000000      2.000000      3.00000      0.000000   \n",
       "50%        18.000000      20.000000      6.000000      9.00000      0.000000   \n",
       "75%        18.000000      20.000000     18.000000     24.00000      1.000000   \n",
       "max        21.000000      20.000000    218.000000    437.00000     20.000000   \n",
       "\n",
       "            event_4       event_5  target_churn_indicator  \n",
       "count  20000.000000  20000.000000            20000.000000  \n",
       "mean       4.341200      4.452500                0.540700  \n",
       "std        4.218456      4.506946                0.498353  \n",
       "min        0.000000      0.000000                0.000000  \n",
       "25%        1.000000      2.000000                0.000000  \n",
       "50%        3.000000      3.000000                1.000000  \n",
       "75%        6.000000      6.000000                1.000000  \n",
       "max       56.000000     64.000000                1.000000  "
      ]
     },
     "execution_count": 5,
     "metadata": {},
     "output_type": "execute_result"
    }
   ],
   "source": [
    "#Estadistica descriptiva de las principales variables cuantitativas del dataset\n",
    "\n",
    "juego.describe()"
   ]
  },
  {
   "cell_type": "markdown",
   "metadata": {},
   "source": [
    "<p>A simple vista, podemos observar que los datos de las variables <strong>min_age_range</strong> y <strong>max_age_range</strong> se concentran entre los 16 y 21 con desviaciones standar mínimas. <br>\n",
    "<p>No así en los <strong>eventos</strong>, que podemos observar algunos valores outliers que vamos a poder estudiar y visualizar en gráficos de caja <p>"
   ]
  },
  {
   "cell_type": "code",
   "execution_count": 6,
   "metadata": {},
   "outputs": [
    {
     "data": {
      "text/plain": [
       "Index(['user_id', 'install_time', 'platform', 'country_region', 'city',\n",
       "       'gender', 'min_age_range', 'max_age_range', 'event_1', 'event_2',\n",
       "       'event_3', 'event_4', 'event_5', 'target_churn_indicator'],\n",
       "      dtype='object')"
      ]
     },
     "execution_count": 6,
     "metadata": {},
     "output_type": "execute_result"
    }
   ],
   "source": [
    "#Observamos el nombre de las columnas \n",
    "\n",
    "juego.columns"
   ]
  },
  {
   "cell_type": "code",
   "execution_count": 7,
   "metadata": {},
   "outputs": [
    {
     "data": {
      "text/plain": [
       "user_id                     0\n",
       "install_time                0\n",
       "platform                    0\n",
       "country_region            479\n",
       "city                      935\n",
       "gender                      0\n",
       "min_age_range               0\n",
       "max_age_range               0\n",
       "event_1                     0\n",
       "event_2                     0\n",
       "event_3                     0\n",
       "event_4                     0\n",
       "event_5                     0\n",
       "target_churn_indicator      0\n",
       "dtype: int64"
      ]
     },
     "execution_count": 7,
     "metadata": {},
     "output_type": "execute_result"
    }
   ],
   "source": [
    "#Encontrar valores nulos \n",
    "\n",
    "juego.isnull().sum()"
   ]
  },
  {
   "cell_type": "code",
   "execution_count": 8,
   "metadata": {},
   "outputs": [
    {
     "data": {
      "text/plain": [
       "user_id                   0.00000\n",
       "install_time              0.00000\n",
       "platform                  0.00000\n",
       "country_region            0.02395\n",
       "city                      0.04675\n",
       "gender                    0.00000\n",
       "min_age_range             0.00000\n",
       "max_age_range             0.00000\n",
       "event_1                   0.00000\n",
       "event_2                   0.00000\n",
       "event_3                   0.00000\n",
       "event_4                   0.00000\n",
       "event_5                   0.00000\n",
       "target_churn_indicator    0.00000\n",
       "dtype: float64"
      ]
     },
     "execution_count": 8,
     "metadata": {},
     "output_type": "execute_result"
    }
   ],
   "source": [
    "#Encontrando porcentajes de valores nulos \n",
    "\n",
    "juego.isnull().sum()/len(juego.index)"
   ]
  },
  {
   "cell_type": "markdown",
   "metadata": {},
   "source": [
    "<p>Se observa dos columnas con presencia de valores nulos:\n",
    "<ol>\n",
    "    <li><strong>country_region:</strong> 2,3% de sus valores son nulos</li>\n",
    "    <li><strong>city:</strong> 4,6% de sus valores son nulos</li>\n",
    "</ol>\n",
    "<p><strong>Las dos columnas son de geolocalización del jugador y sus valores nulos no resultan significantes ante la muestra por lo que no vamos a eliminar</strong></p>"
   ]
  },
  {
   "cell_type": "code",
   "execution_count": 9,
   "metadata": {},
   "outputs": [
    {
     "name": "stdout",
     "output_type": "stream",
     "text": [
      "Valores duplicados en nuestro dataset: 0\n"
     ]
    }
   ],
   "source": [
    "#Presencia de valores duplicados\n",
    "\n",
    "print(\"Valores duplicados en nuestro dataset: {}\".format(juego.duplicated(subset=None, keep=False).sum()))"
   ]
  },
  {
   "cell_type": "code",
   "execution_count": 10,
   "metadata": {},
   "outputs": [
    {
     "data": {
      "text/html": [
       "<div>\n",
       "<style scoped>\n",
       "    .dataframe tbody tr th:only-of-type {\n",
       "        vertical-align: middle;\n",
       "    }\n",
       "\n",
       "    .dataframe tbody tr th {\n",
       "        vertical-align: top;\n",
       "    }\n",
       "\n",
       "    .dataframe thead th {\n",
       "        text-align: right;\n",
       "    }\n",
       "</style>\n",
       "<table border=\"1\" class=\"dataframe\">\n",
       "  <thead>\n",
       "    <tr style=\"text-align: right;\">\n",
       "      <th></th>\n",
       "      <th>user_id</th>\n",
       "      <th>install_time</th>\n",
       "      <th>platform</th>\n",
       "      <th>country_region</th>\n",
       "      <th>city</th>\n",
       "      <th>gender</th>\n",
       "      <th>min_age_range</th>\n",
       "      <th>max_age_range</th>\n",
       "      <th>event_1</th>\n",
       "      <th>event_2</th>\n",
       "      <th>event_3</th>\n",
       "      <th>event_4</th>\n",
       "      <th>event_5</th>\n",
       "      <th>target_churn_indicator</th>\n",
       "    </tr>\n",
       "  </thead>\n",
       "  <tbody>\n",
       "    <tr>\n",
       "      <th>0</th>\n",
       "      <td>2ba6f357</td>\n",
       "      <td>2018-07-04 19:24:24</td>\n",
       "      <td>Android</td>\n",
       "      <td>Santa Cruz</td>\n",
       "      <td>Río Gallegos</td>\n",
       "      <td>male</td>\n",
       "      <td>13</td>\n",
       "      <td>17</td>\n",
       "      <td>1</td>\n",
       "      <td>2</td>\n",
       "      <td>0</td>\n",
       "      <td>1</td>\n",
       "      <td>1</td>\n",
       "      <td>0</td>\n",
       "    </tr>\n",
       "    <tr>\n",
       "      <th>1</th>\n",
       "      <td>3cb936c1</td>\n",
       "      <td>2018-06-30 13:41:29</td>\n",
       "      <td>Android</td>\n",
       "      <td>Corrientes</td>\n",
       "      <td>Corrientes</td>\n",
       "      <td>male</td>\n",
       "      <td>13</td>\n",
       "      <td>17</td>\n",
       "      <td>0</td>\n",
       "      <td>7</td>\n",
       "      <td>0</td>\n",
       "      <td>3</td>\n",
       "      <td>0</td>\n",
       "      <td>1</td>\n",
       "    </tr>\n",
       "    <tr>\n",
       "      <th>2</th>\n",
       "      <td>17d88bbc</td>\n",
       "      <td>2018-06-30 16:02:30</td>\n",
       "      <td>Android</td>\n",
       "      <td>Cordoba</td>\n",
       "      <td>Villa Carlos Paz</td>\n",
       "      <td>female</td>\n",
       "      <td>18</td>\n",
       "      <td>20</td>\n",
       "      <td>2</td>\n",
       "      <td>1</td>\n",
       "      <td>0</td>\n",
       "      <td>2</td>\n",
       "      <td>2</td>\n",
       "      <td>1</td>\n",
       "    </tr>\n",
       "    <tr>\n",
       "      <th>3</th>\n",
       "      <td>7baa10b6</td>\n",
       "      <td>2018-07-02 21:08:33</td>\n",
       "      <td>Android</td>\n",
       "      <td>Buenos Aires</td>\n",
       "      <td>Don Torcuato</td>\n",
       "      <td>female</td>\n",
       "      <td>13</td>\n",
       "      <td>17</td>\n",
       "      <td>5</td>\n",
       "      <td>6</td>\n",
       "      <td>0</td>\n",
       "      <td>2</td>\n",
       "      <td>5</td>\n",
       "      <td>0</td>\n",
       "    </tr>\n",
       "    <tr>\n",
       "      <th>4</th>\n",
       "      <td>120d379</td>\n",
       "      <td>2018-07-07 04:18:47</td>\n",
       "      <td>Android</td>\n",
       "      <td>Santiago del Estero</td>\n",
       "      <td>Santiago del Estero</td>\n",
       "      <td>female</td>\n",
       "      <td>13</td>\n",
       "      <td>17</td>\n",
       "      <td>8</td>\n",
       "      <td>12</td>\n",
       "      <td>0</td>\n",
       "      <td>2</td>\n",
       "      <td>3</td>\n",
       "      <td>0</td>\n",
       "    </tr>\n",
       "  </tbody>\n",
       "</table>\n",
       "</div>"
      ],
      "text/plain": [
       "    user_id         install_time platform       country_region  \\\n",
       "0  2ba6f357  2018-07-04 19:24:24  Android           Santa Cruz   \n",
       "1  3cb936c1  2018-06-30 13:41:29  Android           Corrientes   \n",
       "2  17d88bbc  2018-06-30 16:02:30  Android              Cordoba   \n",
       "3  7baa10b6  2018-07-02 21:08:33  Android         Buenos Aires   \n",
       "4   120d379  2018-07-07 04:18:47  Android  Santiago del Estero   \n",
       "\n",
       "                  city  gender  min_age_range  max_age_range  event_1  \\\n",
       "0         Río Gallegos    male             13             17        1   \n",
       "1           Corrientes    male             13             17        0   \n",
       "2     Villa Carlos Paz  female             18             20        2   \n",
       "3         Don Torcuato  female             13             17        5   \n",
       "4  Santiago del Estero  female             13             17        8   \n",
       "\n",
       "   event_2  event_3  event_4  event_5  target_churn_indicator  \n",
       "0        2        0        1        1                       0  \n",
       "1        7        0        3        0                       1  \n",
       "2        1        0        2        2                       1  \n",
       "3        6        0        2        5                       0  \n",
       "4       12        0        2        3                       0  "
      ]
     },
     "execution_count": 10,
     "metadata": {},
     "output_type": "execute_result"
    }
   ],
   "source": [
    "#Visualización de primeros valores en el dataset\n",
    "\n",
    "juego.head()"
   ]
  },
  {
   "cell_type": "code",
   "execution_count": 11,
   "metadata": {},
   "outputs": [
    {
     "data": {
      "text/html": [
       "<div>\n",
       "<style scoped>\n",
       "    .dataframe tbody tr th:only-of-type {\n",
       "        vertical-align: middle;\n",
       "    }\n",
       "\n",
       "    .dataframe tbody tr th {\n",
       "        vertical-align: top;\n",
       "    }\n",
       "\n",
       "    .dataframe thead th {\n",
       "        text-align: right;\n",
       "    }\n",
       "</style>\n",
       "<table border=\"1\" class=\"dataframe\">\n",
       "  <thead>\n",
       "    <tr style=\"text-align: right;\">\n",
       "      <th></th>\n",
       "      <th>user_id</th>\n",
       "      <th>install_time</th>\n",
       "      <th>platform</th>\n",
       "      <th>country_region</th>\n",
       "      <th>city</th>\n",
       "      <th>gender</th>\n",
       "      <th>min_age_range</th>\n",
       "      <th>max_age_range</th>\n",
       "      <th>event_1</th>\n",
       "      <th>event_2</th>\n",
       "      <th>event_3</th>\n",
       "      <th>event_4</th>\n",
       "      <th>event_5</th>\n",
       "      <th>target_churn_indicator</th>\n",
       "    </tr>\n",
       "  </thead>\n",
       "  <tbody>\n",
       "    <tr>\n",
       "      <th>19995</th>\n",
       "      <td>554e1347</td>\n",
       "      <td>2018-07-07 02:19:19</td>\n",
       "      <td>Android</td>\n",
       "      <td>Santa Fe</td>\n",
       "      <td>Aaron Castellanos</td>\n",
       "      <td>female</td>\n",
       "      <td>18</td>\n",
       "      <td>20</td>\n",
       "      <td>23</td>\n",
       "      <td>54</td>\n",
       "      <td>2</td>\n",
       "      <td>9</td>\n",
       "      <td>3</td>\n",
       "      <td>0</td>\n",
       "    </tr>\n",
       "    <tr>\n",
       "      <th>19996</th>\n",
       "      <td>795f035e</td>\n",
       "      <td>2018-07-05 18:49:59</td>\n",
       "      <td>Android</td>\n",
       "      <td>Santa Cruz</td>\n",
       "      <td>Caleta Olivia</td>\n",
       "      <td>male</td>\n",
       "      <td>18</td>\n",
       "      <td>20</td>\n",
       "      <td>37</td>\n",
       "      <td>45</td>\n",
       "      <td>1</td>\n",
       "      <td>6</td>\n",
       "      <td>6</td>\n",
       "      <td>0</td>\n",
       "    </tr>\n",
       "    <tr>\n",
       "      <th>19997</th>\n",
       "      <td>52acf7f9</td>\n",
       "      <td>2018-07-05 03:22:13</td>\n",
       "      <td>Android</td>\n",
       "      <td>Salta</td>\n",
       "      <td>Salta</td>\n",
       "      <td>female</td>\n",
       "      <td>13</td>\n",
       "      <td>17</td>\n",
       "      <td>3</td>\n",
       "      <td>4</td>\n",
       "      <td>0</td>\n",
       "      <td>1</td>\n",
       "      <td>3</td>\n",
       "      <td>1</td>\n",
       "    </tr>\n",
       "    <tr>\n",
       "      <th>19998</th>\n",
       "      <td>1674efa</td>\n",
       "      <td>2018-07-07 05:22:36</td>\n",
       "      <td>Android</td>\n",
       "      <td>Buenos Aires</td>\n",
       "      <td>Florencio Varela</td>\n",
       "      <td>male</td>\n",
       "      <td>13</td>\n",
       "      <td>17</td>\n",
       "      <td>54</td>\n",
       "      <td>62</td>\n",
       "      <td>2</td>\n",
       "      <td>17</td>\n",
       "      <td>14</td>\n",
       "      <td>0</td>\n",
       "    </tr>\n",
       "    <tr>\n",
       "      <th>19999</th>\n",
       "      <td>fb832bfb</td>\n",
       "      <td>2018-07-02 03:56:24</td>\n",
       "      <td>Android</td>\n",
       "      <td>Santiago del Estero</td>\n",
       "      <td>Santiago del Estero</td>\n",
       "      <td>female</td>\n",
       "      <td>13</td>\n",
       "      <td>17</td>\n",
       "      <td>20</td>\n",
       "      <td>20</td>\n",
       "      <td>1</td>\n",
       "      <td>6</td>\n",
       "      <td>7</td>\n",
       "      <td>0</td>\n",
       "    </tr>\n",
       "  </tbody>\n",
       "</table>\n",
       "</div>"
      ],
      "text/plain": [
       "        user_id         install_time platform       country_region  \\\n",
       "19995  554e1347  2018-07-07 02:19:19  Android             Santa Fe   \n",
       "19996  795f035e  2018-07-05 18:49:59  Android           Santa Cruz   \n",
       "19997  52acf7f9  2018-07-05 03:22:13  Android                Salta   \n",
       "19998   1674efa  2018-07-07 05:22:36  Android         Buenos Aires   \n",
       "19999  fb832bfb  2018-07-02 03:56:24  Android  Santiago del Estero   \n",
       "\n",
       "                      city  gender  min_age_range  max_age_range  event_1  \\\n",
       "19995    Aaron Castellanos  female             18             20       23   \n",
       "19996        Caleta Olivia    male             18             20       37   \n",
       "19997                Salta  female             13             17        3   \n",
       "19998     Florencio Varela    male             13             17       54   \n",
       "19999  Santiago del Estero  female             13             17       20   \n",
       "\n",
       "       event_2  event_3  event_4  event_5  target_churn_indicator  \n",
       "19995       54        2        9        3                       0  \n",
       "19996       45        1        6        6                       0  \n",
       "19997        4        0        1        3                       1  \n",
       "19998       62        2       17       14                       0  \n",
       "19999       20        1        6        7                       0  "
      ]
     },
     "execution_count": 11,
     "metadata": {},
     "output_type": "execute_result"
    }
   ],
   "source": [
    "#Visualización de los últimos valores en el dataset\n",
    "\n",
    "juego.tail()"
   ]
  },
  {
   "cell_type": "markdown",
   "metadata": {},
   "source": [
    "----------"
   ]
  },
  {
   "cell_type": "markdown",
   "metadata": {},
   "source": [
    "<h2>Second step: Data Cleaning</h2>"
   ]
  },
  {
   "cell_type": "markdown",
   "metadata": {},
   "source": [
    "<h5>Columna user_id</h5>"
   ]
  },
  {
   "cell_type": "code",
   "execution_count": 12,
   "metadata": {},
   "outputs": [
    {
     "name": "stdout",
     "output_type": "stream",
     "text": [
      "User id únicos: 18533\n"
     ]
    }
   ],
   "source": [
    "print(\"User id únicos: {}\".format(juego.user_id.nunique()))"
   ]
  },
  {
   "cell_type": "code",
   "execution_count": 13,
   "metadata": {},
   "outputs": [
    {
     "name": "stdout",
     "output_type": "stream",
     "text": [
      "User id totales en dataset: 20000\n"
     ]
    }
   ],
   "source": [
    "print(\"User id totales en dataset: {}\".format(juego.user_id.count()))"
   ]
  },
  {
   "cell_type": "markdown",
   "metadata": {},
   "source": [
    "<h5>Columna install_time</h5>"
   ]
  },
  {
   "cell_type": "code",
   "execution_count": 14,
   "metadata": {},
   "outputs": [
    {
     "data": {
      "text/plain": [
       "dtype('O')"
      ]
     },
     "execution_count": 14,
     "metadata": {},
     "output_type": "execute_result"
    }
   ],
   "source": [
    "#Tipo de columna\n",
    "\n",
    "juego.install_time.dtype"
   ]
  },
  {
   "cell_type": "code",
   "execution_count": 15,
   "metadata": {},
   "outputs": [],
   "source": [
    "#Estamos cambiando la info de objetc a datetime como corresponde\n",
    "\n",
    "juego['install_time'] = pd.to_datetime(juego['install_time'], format = \"%Y-%m-%d %H:%M:%S\")"
   ]
  },
  {
   "cell_type": "code",
   "execution_count": 16,
   "metadata": {},
   "outputs": [
    {
     "name": "stdout",
     "output_type": "stream",
     "text": [
      "Cambio ejecutado ok\n"
     ]
    }
   ],
   "source": [
    "#Chequeamos que esté bien \n",
    "\n",
    "if juego['install_time'].dtype == \"<M8[ns]\":\n",
    "    print('Cambio ejecutado ok')\n",
    "else:\n",
    "    print('Cambio no ejecutado. Revisar código')"
   ]
  },
  {
   "cell_type": "code",
   "execution_count": 17,
   "metadata": {},
   "outputs": [],
   "source": [
    "#Se procede a crear columnas para poder estudiar de forma posterior meses y horas del dataset\n",
    "\n",
    "juego['month'] = pd.DatetimeIndex(juego['install_time']).month\n",
    "juego['hour'] = pd.DatetimeIndex(juego['install_time']).hour"
   ]
  },
  {
   "cell_type": "code",
   "execution_count": 18,
   "metadata": {},
   "outputs": [
    {
     "name": "stdout",
     "output_type": "stream",
     "text": [
      "<class 'pandas.core.frame.DataFrame'>\n",
      "RangeIndex: 20000 entries, 0 to 19999\n",
      "Data columns (total 16 columns):\n",
      " #   Column                  Non-Null Count  Dtype         \n",
      "---  ------                  --------------  -----         \n",
      " 0   user_id                 20000 non-null  object        \n",
      " 1   install_time            20000 non-null  datetime64[ns]\n",
      " 2   platform                20000 non-null  object        \n",
      " 3   country_region          19521 non-null  object        \n",
      " 4   city                    19065 non-null  object        \n",
      " 5   gender                  20000 non-null  object        \n",
      " 6   min_age_range           20000 non-null  int64         \n",
      " 7   max_age_range           20000 non-null  int64         \n",
      " 8   event_1                 20000 non-null  int64         \n",
      " 9   event_2                 20000 non-null  int64         \n",
      " 10  event_3                 20000 non-null  int64         \n",
      " 11  event_4                 20000 non-null  int64         \n",
      " 12  event_5                 20000 non-null  int64         \n",
      " 13  target_churn_indicator  20000 non-null  int64         \n",
      " 14  month                   20000 non-null  int64         \n",
      " 15  hour                    20000 non-null  int64         \n",
      "dtypes: datetime64[ns](1), int64(10), object(5)\n",
      "memory usage: 2.4+ MB\n"
     ]
    }
   ],
   "source": [
    "#Chequeamos que se produzcan los datos \n",
    "\n",
    "juego.info()\n",
    "\n",
    "#A estas columnas las dejo como entero por ser de mi interes que queden asi"
   ]
  },
  {
   "cell_type": "markdown",
   "metadata": {},
   "source": [
    "<h5>Columna platform </h5>"
   ]
  },
  {
   "cell_type": "code",
   "execution_count": 19,
   "metadata": {},
   "outputs": [
    {
     "data": {
      "text/plain": [
       "Android    19512\n",
       "iOS          488\n",
       "Name: platform, dtype: int64"
      ]
     },
     "execution_count": 19,
     "metadata": {},
     "output_type": "execute_result"
    }
   ],
   "source": [
    "juego.platform.value_counts()"
   ]
  },
  {
   "cell_type": "markdown",
   "metadata": {},
   "source": [
    "<p>No se observan problemas de nomenclatura, hay dos categorías correctamente identificables para su analisis</p>"
   ]
  },
  {
   "cell_type": "markdown",
   "metadata": {},
   "source": [
    "<h5>Columna Country Region</h5>"
   ]
  },
  {
   "cell_type": "code",
   "execution_count": 20,
   "metadata": {},
   "outputs": [
    {
     "data": {
      "text/plain": [
       "Buenos Aires           6831\n",
       "Buenos Aires F.D.      3115\n",
       "Cordoba                1898\n",
       "Entre Rios             1138\n",
       "Santa Fe                884\n",
       "Tucuman                 782\n",
       "Mendoza                 686\n",
       "Salta                   684\n",
       "Chaco                   391\n",
       "Misiones                355\n",
       "Corrientes              331\n",
       "Neuquen                 259\n",
       "Santiago del Estero     234\n",
       "San Luis                234\n",
       "Formosa                 212\n",
       "La Rioja                208\n",
       "Rio Negro               207\n",
       "San Juan                200\n",
       "Jujuy                   189\n",
       "Chubut                  180\n",
       "La Pampa                164\n",
       "Catamarca               140\n",
       "Santa Cruz              103\n",
       "Tierra del Fuego         70\n",
       "Entre Ríos Province      15\n",
       "Santa Fe Province         2\n",
       "Cordoba Province          2\n",
       "Neuquén Province          2\n",
       "Chubut Province           1\n",
       "Chaco Province            1\n",
       "Salta Province            1\n",
       "Río Negro Province        1\n",
       "Tucumán Province          1\n",
       "Name: country_region, dtype: int64"
      ]
     },
     "execution_count": 20,
     "metadata": {},
     "output_type": "execute_result"
    }
   ],
   "source": [
    "juego.country_region.value_counts()"
   ]
  },
  {
   "cell_type": "code",
   "execution_count": 21,
   "metadata": {},
   "outputs": [],
   "source": [
    "#Funcion a utilizar posteriormente\n",
    "\n",
    "def reemplaza_variables(x,y,z):\n",
    "    juego[x] = juego[x].str.replace(y, z)"
   ]
  },
  {
   "cell_type": "code",
   "execution_count": 22,
   "metadata": {},
   "outputs": [],
   "source": [
    "#Se corrigen errores en cuanto a la nomenclatura de distintos datos para unificar y poder analizar luego correctamente\n",
    "\n",
    "reemplaza_variables('country_region', 'Buenos Aires F.D.', 'CABA')\n",
    "reemplaza_variables('country_region', 'Entre Ríos Province', 'Entre Rios')\n",
    "reemplaza_variables('country_region', 'Neuquén Province', 'Neuquen')\n",
    "reemplaza_variables('country_region', 'Santa Fe Province', 'Santa Fe')\n",
    "reemplaza_variables('country_region', 'Cordoba Province', 'Cordoba')\n",
    "reemplaza_variables('country_region', 'Río Negro Province', 'Rio Negro')\n",
    "reemplaza_variables('country_region', 'Chubut Province', 'Chubut')\n",
    "reemplaza_variables('country_region', 'Chaco Province', 'Chaco')\n",
    "reemplaza_variables('country_region', 'Salta Province', 'Salta')\n",
    "reemplaza_variables('country_region', 'Tucumán Province', 'Tucuman')"
   ]
  },
  {
   "cell_type": "code",
   "execution_count": 23,
   "metadata": {},
   "outputs": [
    {
     "data": {
      "text/plain": [
       "24"
      ]
     },
     "execution_count": 23,
     "metadata": {},
     "output_type": "execute_result"
    }
   ],
   "source": [
    "juego.country_region.value_counts().count()"
   ]
  },
  {
   "cell_type": "markdown",
   "metadata": {},
   "source": [
    "<p><strong>24</strong> son las provincias a analizar en el país por lo que estaríamos en el número correcto para el análisis</p>"
   ]
  },
  {
   "cell_type": "markdown",
   "metadata": {},
   "source": [
    "<h5>Columna city</h5>"
   ]
  },
  {
   "cell_type": "code",
   "execution_count": 24,
   "metadata": {},
   "outputs": [
    {
     "data": {
      "text/plain": [
       "Buenos Aires             2626\n",
       "Córdoba                  1188\n",
       "Villa Angelica            751\n",
       "San Miguel de Tucumán     675\n",
       "Salta                     597\n",
       "                         ... \n",
       "Inriville                   1\n",
       "Los Sarmientos              1\n",
       "Uspallata                   1\n",
       "Villa Yacanto               1\n",
       "Hughes                      1\n",
       "Name: city, Length: 772, dtype: int64"
      ]
     },
     "execution_count": 24,
     "metadata": {},
     "output_type": "execute_result"
    }
   ],
   "source": [
    "juego.city.value_counts()"
   ]
  },
  {
   "cell_type": "markdown",
   "metadata": {},
   "source": [
    "<p>En esta columna se observa la nomenclatura de las ciudades de forma correcta, por lo que se decide continuar con la siguiente<p>"
   ]
  },
  {
   "cell_type": "markdown",
   "metadata": {},
   "source": [
    "<h5>Columna género</h5>"
   ]
  },
  {
   "cell_type": "code",
   "execution_count": 25,
   "metadata": {},
   "outputs": [
    {
     "data": {
      "text/plain": [
       "female     10835\n",
       "male        8992\n",
       "unknown      173\n",
       "Name: gender, dtype: int64"
      ]
     },
     "execution_count": 25,
     "metadata": {},
     "output_type": "execute_result"
    }
   ],
   "source": [
    "juego.gender.value_counts()"
   ]
  },
  {
   "cell_type": "markdown",
   "metadata": {},
   "source": [
    "<p>En esta columna, los denominados <strong>unknown</strong> son aceptables aunque también podrían ser considerados como valores nulos en un análisis estricto de la información. En este proyecto <strong> no lo vamos a considerar como valores nulos </strong>"
   ]
  },
  {
   "cell_type": "markdown",
   "metadata": {},
   "source": [
    "### En columnas numéricas de nuestro dataset mostradas a continuación, no se observan anomalías o presencia de valores extraños que no sean los deseables en la muestra"
   ]
  },
  {
   "cell_type": "code",
   "execution_count": 26,
   "metadata": {},
   "outputs": [
    {
     "data": {
      "text/plain": [
       "18    12546\n",
       "13     7430\n",
       "21       17\n",
       "20        4\n",
       "17        3\n",
       "Name: min_age_range, dtype: int64"
      ]
     },
     "execution_count": 26,
     "metadata": {},
     "output_type": "execute_result"
    }
   ],
   "source": [
    "juego.min_age_range.value_counts()"
   ]
  },
  {
   "cell_type": "code",
   "execution_count": 27,
   "metadata": {},
   "outputs": [
    {
     "data": {
      "text/plain": [
       "20    12561\n",
       "17     7436\n",
       "18        2\n",
       "13        1\n",
       "Name: max_age_range, dtype: int64"
      ]
     },
     "execution_count": 27,
     "metadata": {},
     "output_type": "execute_result"
    }
   ],
   "source": [
    "juego.max_age_range.value_counts()"
   ]
  },
  {
   "cell_type": "code",
   "execution_count": 28,
   "metadata": {},
   "outputs": [
    {
     "data": {
      "text/plain": [
       "1      1936\n",
       "3      1857\n",
       "2      1797\n",
       "0      1470\n",
       "4      1252\n",
       "       ... \n",
       "165       1\n",
       "133       1\n",
       "164       1\n",
       "179       1\n",
       "135       1\n",
       "Name: event_1, Length: 161, dtype: int64"
      ]
     },
     "execution_count": 28,
     "metadata": {},
     "output_type": "execute_result"
    }
   ],
   "source": [
    "juego.event_1.value_counts()"
   ]
  },
  {
   "cell_type": "code",
   "execution_count": 29,
   "metadata": {},
   "outputs": [
    {
     "data": {
      "text/plain": [
       "0      1633\n",
       "1      1392\n",
       "2      1298\n",
       "3      1291\n",
       "4      1043\n",
       "       ... \n",
       "214       1\n",
       "278       1\n",
       "223       1\n",
       "247       1\n",
       "183       1\n",
       "Name: event_2, Length: 216, dtype: int64"
      ]
     },
     "execution_count": 29,
     "metadata": {},
     "output_type": "execute_result"
    }
   ],
   "source": [
    "juego.event_2.value_counts()"
   ]
  },
  {
   "cell_type": "code",
   "execution_count": 30,
   "metadata": {},
   "outputs": [
    {
     "data": {
      "text/plain": [
       "0     14918\n",
       "1      2646\n",
       "2      1144\n",
       "3       583\n",
       "4       315\n",
       "5       161\n",
       "6        92\n",
       "7        53\n",
       "8        39\n",
       "9        16\n",
       "10        9\n",
       "12        9\n",
       "11        6\n",
       "20        2\n",
       "13        2\n",
       "14        1\n",
       "18        1\n",
       "17        1\n",
       "16        1\n",
       "15        1\n",
       "Name: event_3, dtype: int64"
      ]
     },
     "execution_count": 30,
     "metadata": {},
     "output_type": "execute_result"
    }
   ],
   "source": [
    "juego.event_3.value_counts()"
   ]
  },
  {
   "cell_type": "code",
   "execution_count": 31,
   "metadata": {},
   "outputs": [
    {
     "data": {
      "text/plain": [
       "3     3370\n",
       "2     3171\n",
       "1     3154\n",
       "4     2135\n",
       "5     1491\n",
       "0     1443\n",
       "6     1138\n",
       "7      857\n",
       "8      646\n",
       "9      496\n",
       "10     379\n",
       "11     305\n",
       "12     249\n",
       "13     197\n",
       "14     177\n",
       "16     137\n",
       "15     121\n",
       "18      79\n",
       "17      79\n",
       "19      73\n",
       "20      50\n",
       "21      35\n",
       "24      32\n",
       "23      31\n",
       "22      31\n",
       "26      26\n",
       "25      17\n",
       "27      16\n",
       "28      13\n",
       "30      10\n",
       "32       7\n",
       "29       5\n",
       "38       4\n",
       "31       4\n",
       "35       3\n",
       "36       2\n",
       "39       2\n",
       "33       2\n",
       "42       2\n",
       "48       2\n",
       "43       2\n",
       "51       1\n",
       "50       1\n",
       "34       1\n",
       "40       1\n",
       "64       1\n",
       "46       1\n",
       "47       1\n",
       "Name: event_5, dtype: int64"
      ]
     },
     "execution_count": 31,
     "metadata": {},
     "output_type": "execute_result"
    }
   ],
   "source": [
    "juego.event_5.value_counts()"
   ]
  },
  {
   "cell_type": "code",
   "execution_count": 32,
   "metadata": {},
   "outputs": [
    {
     "data": {
      "text/plain": [
       "1    10814\n",
       "0     9186\n",
       "Name: target_churn_indicator, dtype: int64"
      ]
     },
     "execution_count": 32,
     "metadata": {},
     "output_type": "execute_result"
    }
   ],
   "source": [
    "juego.target_churn_indicator.value_counts()"
   ]
  },
  {
   "cell_type": "markdown",
   "metadata": {},
   "source": [
    "------"
   ]
  },
  {
   "cell_type": "markdown",
   "metadata": {},
   "source": [
    "<h2>Data Insights</h2>"
   ]
  },
  {
   "cell_type": "markdown",
   "metadata": {},
   "source": [
    "<h3><font color=blue>Time Series</font></h3>"
   ]
  },
  {
   "cell_type": "code",
   "execution_count": 35,
   "metadata": {},
   "outputs": [
    {
     "data": {
      "text/html": [
       "<div>\n",
       "<style scoped>\n",
       "    .dataframe tbody tr th:only-of-type {\n",
       "        vertical-align: middle;\n",
       "    }\n",
       "\n",
       "    .dataframe tbody tr th {\n",
       "        vertical-align: top;\n",
       "    }\n",
       "\n",
       "    .dataframe thead th {\n",
       "        text-align: right;\n",
       "    }\n",
       "</style>\n",
       "<table border=\"1\" class=\"dataframe\">\n",
       "  <thead>\n",
       "    <tr style=\"text-align: right;\">\n",
       "      <th></th>\n",
       "      <th>user_id</th>\n",
       "      <th>install_time</th>\n",
       "      <th>platform</th>\n",
       "      <th>country_region</th>\n",
       "      <th>city</th>\n",
       "      <th>gender</th>\n",
       "      <th>min_age_range</th>\n",
       "      <th>max_age_range</th>\n",
       "      <th>event_1</th>\n",
       "      <th>event_2</th>\n",
       "      <th>event_3</th>\n",
       "      <th>event_4</th>\n",
       "      <th>event_5</th>\n",
       "      <th>target_churn_indicator</th>\n",
       "      <th>month</th>\n",
       "      <th>hour</th>\n",
       "    </tr>\n",
       "  </thead>\n",
       "  <tbody>\n",
       "    <tr>\n",
       "      <th>0</th>\n",
       "      <td>2ba6f357</td>\n",
       "      <td>2018-07-04 19:24:24</td>\n",
       "      <td>Android</td>\n",
       "      <td>Santa Cruz</td>\n",
       "      <td>Río Gallegos</td>\n",
       "      <td>male</td>\n",
       "      <td>13</td>\n",
       "      <td>17</td>\n",
       "      <td>1</td>\n",
       "      <td>2</td>\n",
       "      <td>0</td>\n",
       "      <td>1</td>\n",
       "      <td>1</td>\n",
       "      <td>0</td>\n",
       "      <td>7</td>\n",
       "      <td>19</td>\n",
       "    </tr>\n",
       "    <tr>\n",
       "      <th>1</th>\n",
       "      <td>3cb936c1</td>\n",
       "      <td>2018-06-30 13:41:29</td>\n",
       "      <td>Android</td>\n",
       "      <td>Corrientes</td>\n",
       "      <td>Corrientes</td>\n",
       "      <td>male</td>\n",
       "      <td>13</td>\n",
       "      <td>17</td>\n",
       "      <td>0</td>\n",
       "      <td>7</td>\n",
       "      <td>0</td>\n",
       "      <td>3</td>\n",
       "      <td>0</td>\n",
       "      <td>1</td>\n",
       "      <td>6</td>\n",
       "      <td>13</td>\n",
       "    </tr>\n",
       "    <tr>\n",
       "      <th>2</th>\n",
       "      <td>17d88bbc</td>\n",
       "      <td>2018-06-30 16:02:30</td>\n",
       "      <td>Android</td>\n",
       "      <td>Cordoba</td>\n",
       "      <td>Villa Carlos Paz</td>\n",
       "      <td>female</td>\n",
       "      <td>18</td>\n",
       "      <td>20</td>\n",
       "      <td>2</td>\n",
       "      <td>1</td>\n",
       "      <td>0</td>\n",
       "      <td>2</td>\n",
       "      <td>2</td>\n",
       "      <td>1</td>\n",
       "      <td>6</td>\n",
       "      <td>16</td>\n",
       "    </tr>\n",
       "    <tr>\n",
       "      <th>3</th>\n",
       "      <td>7baa10b6</td>\n",
       "      <td>2018-07-02 21:08:33</td>\n",
       "      <td>Android</td>\n",
       "      <td>Buenos Aires</td>\n",
       "      <td>Don Torcuato</td>\n",
       "      <td>female</td>\n",
       "      <td>13</td>\n",
       "      <td>17</td>\n",
       "      <td>5</td>\n",
       "      <td>6</td>\n",
       "      <td>0</td>\n",
       "      <td>2</td>\n",
       "      <td>5</td>\n",
       "      <td>0</td>\n",
       "      <td>7</td>\n",
       "      <td>21</td>\n",
       "    </tr>\n",
       "    <tr>\n",
       "      <th>4</th>\n",
       "      <td>120d379</td>\n",
       "      <td>2018-07-07 04:18:47</td>\n",
       "      <td>Android</td>\n",
       "      <td>Santiago del Estero</td>\n",
       "      <td>Santiago del Estero</td>\n",
       "      <td>female</td>\n",
       "      <td>13</td>\n",
       "      <td>17</td>\n",
       "      <td>8</td>\n",
       "      <td>12</td>\n",
       "      <td>0</td>\n",
       "      <td>2</td>\n",
       "      <td>3</td>\n",
       "      <td>0</td>\n",
       "      <td>7</td>\n",
       "      <td>4</td>\n",
       "    </tr>\n",
       "  </tbody>\n",
       "</table>\n",
       "</div>"
      ],
      "text/plain": [
       "    user_id        install_time platform       country_region  \\\n",
       "0  2ba6f357 2018-07-04 19:24:24  Android           Santa Cruz   \n",
       "1  3cb936c1 2018-06-30 13:41:29  Android           Corrientes   \n",
       "2  17d88bbc 2018-06-30 16:02:30  Android              Cordoba   \n",
       "3  7baa10b6 2018-07-02 21:08:33  Android         Buenos Aires   \n",
       "4   120d379 2018-07-07 04:18:47  Android  Santiago del Estero   \n",
       "\n",
       "                  city  gender  min_age_range  max_age_range  event_1  \\\n",
       "0         Río Gallegos    male             13             17        1   \n",
       "1           Corrientes    male             13             17        0   \n",
       "2     Villa Carlos Paz  female             18             20        2   \n",
       "3         Don Torcuato  female             13             17        5   \n",
       "4  Santiago del Estero  female             13             17        8   \n",
       "\n",
       "   event_2  event_3  event_4  event_5  target_churn_indicator  month  hour  \n",
       "0        2        0        1        1                       0      7    19  \n",
       "1        7        0        3        0                       1      6    13  \n",
       "2        1        0        2        2                       1      6    16  \n",
       "3        6        0        2        5                       0      7    21  \n",
       "4       12        0        2        3                       0      7     4  "
      ]
     },
     "execution_count": 35,
     "metadata": {},
     "output_type": "execute_result"
    }
   ],
   "source": [
    "#Primeros valores\n",
    "\n",
    "juego.head()"
   ]
  },
  {
   "cell_type": "code",
   "execution_count": 37,
   "metadata": {},
   "outputs": [],
   "source": [
    "#Seteamos la fecha como index\n",
    "\n",
    "juego_index = juego.set_index('install_time')"
   ]
  },
  {
   "cell_type": "code",
   "execution_count": 59,
   "metadata": {},
   "outputs": [
    {
     "data": {
      "image/png": "[encoded data removed]",
      "text/plain": [
       "<Figure size 842.4x595.44 with 1 Axes>"
      ]
     },
     "metadata": {},
     "output_type": "display_data"
    }
   ],
   "source": [
    "#Ploteamos con matplotlib\n",
    "\n",
    "juego_index.plot()\n",
    "plt.title('Cantidad de datos por fecha', fontsize= 20)\n",
    "plt.xlabel('Fecha')\n",
    "plt.ylabel('Cantidad')\n",
    "plt.show()"
   ]
  },
  {
   "cell_type": "code",
   "execution_count": 60,
   "metadata": {},
   "outputs": [
    {
     "data": {
      "image/png": "[encoded data removed]",
      "text/plain": [
       "<Figure size 842.4x595.44 with 1 Axes>"
      ]
     },
     "metadata": {},
     "output_type": "display_data"
    }
   ],
   "source": [
    "#Grafico de barras por seaborn\n",
    "\n",
    "sns.countplot(x = \"month\",\n",
    "             data = juego,\n",
    "             order = juego['month'].value_counts().index)\n",
    "plt.title('Cantidad de valores en el dataset por mes', fontsize = 20)\n",
    "plt.xlabel('Mes')\n",
    "plt.ylabel('Cantidad de datos')\n",
    "plt.show()\n"
   ]
  },
  {
   "cell_type": "code",
   "execution_count": 46,
   "metadata": {},
   "outputs": [
    {
     "data": {
      "text/plain": [
       "7    0.8846\n",
       "6    0.1154\n",
       "Name: month, dtype: float64"
      ]
     },
     "execution_count": 46,
     "metadata": {},
     "output_type": "execute_result"
    }
   ],
   "source": [
    "#Proporción de los datos\n",
    "\n",
    "juego.month.value_counts(normalize = True)"
   ]
  },
  {
   "cell_type": "markdown",
   "metadata": {},
   "source": [
    "<p>Se puede observar que nuestro dataset solo contiene datos correspondientes a los meses de Junio y Julio. Entendiendo el contexto, se observa un patrón de actividad similar durante estos 9 días de análisis con crecimientos el día Jueves 5 de Julio y el día Sábado 7 de Julio</p><br>\n",
    "<p>El 88% de nuestros datos se concentran en el mes de Julio mientras que el 12% sucedieron en el mes de Junio</p>\n"
   ]
  },
  {
   "cell_type": "code",
   "execution_count": 52,
   "metadata": {},
   "outputs": [],
   "source": [
    "#Veamos horas \n",
    "\n",
    "horas_juego = juego.groupby('hour')['user_id'].count().to_frame()"
   ]
  },
  {
   "cell_type": "code",
   "execution_count": 55,
   "metadata": {},
   "outputs": [],
   "source": [
    "#Reseteamos index\n",
    "\n",
    "horas_juego = horas_juego.reset_index()"
   ]
  },
  {
   "cell_type": "code",
   "execution_count": 64,
   "metadata": {},
   "outputs": [
    {
     "data": {
      "image/png": "[encoded data removed]",
      "text/plain": [
       "<Figure size 842.4x595.44 with 1 Axes>"
      ]
     },
     "metadata": {},
     "output_type": "display_data"
    }
   ],
   "source": [
    "#Grafico de lineas\n",
    "\n",
    "sns.lineplot(data = horas_juego, x = 'hour', y = 'user_id')\n",
    "plt.title('Actividad por hora', fontsize = 20)\n",
    "plt.xlabel('Hora')\n",
    "plt.ylabel('Cantidadd de registros')\n",
    "plt.show()"
   ]
  },
  {
   "cell_type": "code",
   "execution_count": 65,
   "metadata": {},
   "outputs": [
    {
     "data": {
      "image/png": "[encoded data removed]",
      "text/plain": [
       "<Figure size 842.4x595.44 with 1 Axes>"
      ]
     },
     "metadata": {},
     "output_type": "display_data"
    }
   ],
   "source": [
    "#Agrupamiento de eventos por hora\n",
    "\n",
    "juego.groupby('hour')[['event_1', \"event_2\", 'event_3', 'event_4', 'event_5']].sum().plot()\n",
    "plt.title('Actividad de cada evento por hora', fontsize = 20)\n",
    "plt.xlabel('Hora')\n",
    "plt.ylabel('Cantidadd de registros por evento')\n",
    "plt.show()"
   ]
  },
  {
   "cell_type": "code",
   "execution_count": 68,
   "metadata": {},
   "outputs": [
    {
     "data": {
      "text/html": [
       "<div>\n",
       "<style scoped>\n",
       "    .dataframe tbody tr th:only-of-type {\n",
       "        vertical-align: middle;\n",
       "    }\n",
       "\n",
       "    .dataframe tbody tr th {\n",
       "        vertical-align: top;\n",
       "    }\n",
       "\n",
       "    .dataframe thead tr th {\n",
       "        text-align: left;\n",
       "    }\n",
       "\n",
       "    .dataframe thead tr:last-of-type th {\n",
       "        text-align: right;\n",
       "    }\n",
       "</style>\n",
       "<table border=\"1\" class=\"dataframe\">\n",
       "  <thead>\n",
       "    <tr>\n",
       "      <th></th>\n",
       "      <th colspan=\"4\" halign=\"left\">event_1</th>\n",
       "      <th colspan=\"4\" halign=\"left\">event_2</th>\n",
       "      <th colspan=\"4\" halign=\"left\">event_3</th>\n",
       "      <th colspan=\"4\" halign=\"left\">event_4</th>\n",
       "      <th colspan=\"4\" halign=\"left\">event_5</th>\n",
       "    </tr>\n",
       "    <tr>\n",
       "      <th></th>\n",
       "      <th>sum</th>\n",
       "      <th>amax</th>\n",
       "      <th>amin</th>\n",
       "      <th>mean</th>\n",
       "      <th>sum</th>\n",
       "      <th>amax</th>\n",
       "      <th>amin</th>\n",
       "      <th>mean</th>\n",
       "      <th>sum</th>\n",
       "      <th>amax</th>\n",
       "      <th>amin</th>\n",
       "      <th>mean</th>\n",
       "      <th>sum</th>\n",
       "      <th>amax</th>\n",
       "      <th>amin</th>\n",
       "      <th>mean</th>\n",
       "      <th>sum</th>\n",
       "      <th>amax</th>\n",
       "      <th>amin</th>\n",
       "      <th>mean</th>\n",
       "    </tr>\n",
       "    <tr>\n",
       "      <th>hour</th>\n",
       "      <th></th>\n",
       "      <th></th>\n",
       "      <th></th>\n",
       "      <th></th>\n",
       "      <th></th>\n",
       "      <th></th>\n",
       "      <th></th>\n",
       "      <th></th>\n",
       "      <th></th>\n",
       "      <th></th>\n",
       "      <th></th>\n",
       "      <th></th>\n",
       "      <th></th>\n",
       "      <th></th>\n",
       "      <th></th>\n",
       "      <th></th>\n",
       "      <th></th>\n",
       "      <th></th>\n",
       "      <th></th>\n",
       "      <th></th>\n",
       "    </tr>\n",
       "  </thead>\n",
       "  <tbody>\n",
       "    <tr>\n",
       "      <th>0</th>\n",
       "      <td>21550</td>\n",
       "      <td>167</td>\n",
       "      <td>0</td>\n",
       "      <td>15.706997</td>\n",
       "      <td>29663</td>\n",
       "      <td>437</td>\n",
       "      <td>0</td>\n",
       "      <td>21.620262</td>\n",
       "      <td>882</td>\n",
       "      <td>10</td>\n",
       "      <td>0</td>\n",
       "      <td>0.642857</td>\n",
       "      <td>6615</td>\n",
       "      <td>28</td>\n",
       "      <td>0</td>\n",
       "      <td>4.821429</td>\n",
       "      <td>6778</td>\n",
       "      <td>46</td>\n",
       "      <td>0</td>\n",
       "      <td>4.940233</td>\n",
       "    </tr>\n",
       "    <tr>\n",
       "      <th>1</th>\n",
       "      <td>25061</td>\n",
       "      <td>179</td>\n",
       "      <td>0</td>\n",
       "      <td>16.390451</td>\n",
       "      <td>33646</td>\n",
       "      <td>344</td>\n",
       "      <td>0</td>\n",
       "      <td>22.005232</td>\n",
       "      <td>1071</td>\n",
       "      <td>18</td>\n",
       "      <td>0</td>\n",
       "      <td>0.700458</td>\n",
       "      <td>7535</td>\n",
       "      <td>34</td>\n",
       "      <td>0</td>\n",
       "      <td>4.928058</td>\n",
       "      <td>7454</td>\n",
       "      <td>42</td>\n",
       "      <td>0</td>\n",
       "      <td>4.875082</td>\n",
       "    </tr>\n",
       "    <tr>\n",
       "      <th>2</th>\n",
       "      <td>22494</td>\n",
       "      <td>165</td>\n",
       "      <td>0</td>\n",
       "      <td>16.078628</td>\n",
       "      <td>30325</td>\n",
       "      <td>274</td>\n",
       "      <td>0</td>\n",
       "      <td>21.676197</td>\n",
       "      <td>922</td>\n",
       "      <td>11</td>\n",
       "      <td>0</td>\n",
       "      <td>0.659042</td>\n",
       "      <td>6638</td>\n",
       "      <td>37</td>\n",
       "      <td>0</td>\n",
       "      <td>4.744818</td>\n",
       "      <td>6473</td>\n",
       "      <td>47</td>\n",
       "      <td>0</td>\n",
       "      <td>4.626876</td>\n",
       "    </tr>\n",
       "    <tr>\n",
       "      <th>3</th>\n",
       "      <td>19218</td>\n",
       "      <td>154</td>\n",
       "      <td>0</td>\n",
       "      <td>15.362110</td>\n",
       "      <td>25613</td>\n",
       "      <td>219</td>\n",
       "      <td>0</td>\n",
       "      <td>20.474021</td>\n",
       "      <td>771</td>\n",
       "      <td>16</td>\n",
       "      <td>0</td>\n",
       "      <td>0.616307</td>\n",
       "      <td>5915</td>\n",
       "      <td>56</td>\n",
       "      <td>0</td>\n",
       "      <td>4.728217</td>\n",
       "      <td>5509</td>\n",
       "      <td>35</td>\n",
       "      <td>0</td>\n",
       "      <td>4.403677</td>\n",
       "    </tr>\n",
       "    <tr>\n",
       "      <th>4</th>\n",
       "      <td>13334</td>\n",
       "      <td>141</td>\n",
       "      <td>0</td>\n",
       "      <td>15.135074</td>\n",
       "      <td>17306</td>\n",
       "      <td>207</td>\n",
       "      <td>0</td>\n",
       "      <td>19.643587</td>\n",
       "      <td>510</td>\n",
       "      <td>12</td>\n",
       "      <td>0</td>\n",
       "      <td>0.578888</td>\n",
       "      <td>3813</td>\n",
       "      <td>26</td>\n",
       "      <td>0</td>\n",
       "      <td>4.328036</td>\n",
       "      <td>4127</td>\n",
       "      <td>35</td>\n",
       "      <td>0</td>\n",
       "      <td>4.684449</td>\n",
       "    </tr>\n",
       "    <tr>\n",
       "      <th>5</th>\n",
       "      <td>7423</td>\n",
       "      <td>111</td>\n",
       "      <td>0</td>\n",
       "      <td>14.526419</td>\n",
       "      <td>10218</td>\n",
       "      <td>264</td>\n",
       "      <td>0</td>\n",
       "      <td>19.996086</td>\n",
       "      <td>295</td>\n",
       "      <td>14</td>\n",
       "      <td>0</td>\n",
       "      <td>0.577299</td>\n",
       "      <td>2240</td>\n",
       "      <td>31</td>\n",
       "      <td>0</td>\n",
       "      <td>4.383562</td>\n",
       "      <td>2411</td>\n",
       "      <td>30</td>\n",
       "      <td>0</td>\n",
       "      <td>4.718200</td>\n",
       "    </tr>\n",
       "    <tr>\n",
       "      <th>6</th>\n",
       "      <td>4575</td>\n",
       "      <td>141</td>\n",
       "      <td>0</td>\n",
       "      <td>15.508475</td>\n",
       "      <td>6133</td>\n",
       "      <td>182</td>\n",
       "      <td>0</td>\n",
       "      <td>20.789831</td>\n",
       "      <td>174</td>\n",
       "      <td>9</td>\n",
       "      <td>0</td>\n",
       "      <td>0.589831</td>\n",
       "      <td>1248</td>\n",
       "      <td>26</td>\n",
       "      <td>1</td>\n",
       "      <td>4.230508</td>\n",
       "      <td>1420</td>\n",
       "      <td>28</td>\n",
       "      <td>0</td>\n",
       "      <td>4.813559</td>\n",
       "    </tr>\n",
       "    <tr>\n",
       "      <th>7</th>\n",
       "      <td>2227</td>\n",
       "      <td>115</td>\n",
       "      <td>0</td>\n",
       "      <td>13.255952</td>\n",
       "      <td>3273</td>\n",
       "      <td>240</td>\n",
       "      <td>0</td>\n",
       "      <td>19.482143</td>\n",
       "      <td>72</td>\n",
       "      <td>4</td>\n",
       "      <td>0</td>\n",
       "      <td>0.428571</td>\n",
       "      <td>642</td>\n",
       "      <td>22</td>\n",
       "      <td>1</td>\n",
       "      <td>3.821429</td>\n",
       "      <td>745</td>\n",
       "      <td>23</td>\n",
       "      <td>0</td>\n",
       "      <td>4.434524</td>\n",
       "    </tr>\n",
       "    <tr>\n",
       "      <th>8</th>\n",
       "      <td>1204</td>\n",
       "      <td>74</td>\n",
       "      <td>0</td>\n",
       "      <td>11.576923</td>\n",
       "      <td>1823</td>\n",
       "      <td>90</td>\n",
       "      <td>0</td>\n",
       "      <td>17.528846</td>\n",
       "      <td>32</td>\n",
       "      <td>4</td>\n",
       "      <td>0</td>\n",
       "      <td>0.307692</td>\n",
       "      <td>347</td>\n",
       "      <td>15</td>\n",
       "      <td>1</td>\n",
       "      <td>3.336538</td>\n",
       "      <td>495</td>\n",
       "      <td>20</td>\n",
       "      <td>0</td>\n",
       "      <td>4.759615</td>\n",
       "    </tr>\n",
       "    <tr>\n",
       "      <th>9</th>\n",
       "      <td>850</td>\n",
       "      <td>113</td>\n",
       "      <td>0</td>\n",
       "      <td>9.139785</td>\n",
       "      <td>1112</td>\n",
       "      <td>114</td>\n",
       "      <td>0</td>\n",
       "      <td>11.956989</td>\n",
       "      <td>19</td>\n",
       "      <td>3</td>\n",
       "      <td>0</td>\n",
       "      <td>0.204301</td>\n",
       "      <td>354</td>\n",
       "      <td>13</td>\n",
       "      <td>1</td>\n",
       "      <td>3.806452</td>\n",
       "      <td>354</td>\n",
       "      <td>14</td>\n",
       "      <td>0</td>\n",
       "      <td>3.806452</td>\n",
       "    </tr>\n",
       "    <tr>\n",
       "      <th>10</th>\n",
       "      <td>1326</td>\n",
       "      <td>57</td>\n",
       "      <td>0</td>\n",
       "      <td>10.045455</td>\n",
       "      <td>1934</td>\n",
       "      <td>125</td>\n",
       "      <td>0</td>\n",
       "      <td>14.651515</td>\n",
       "      <td>49</td>\n",
       "      <td>4</td>\n",
       "      <td>0</td>\n",
       "      <td>0.371212</td>\n",
       "      <td>567</td>\n",
       "      <td>27</td>\n",
       "      <td>1</td>\n",
       "      <td>4.295455</td>\n",
       "      <td>542</td>\n",
       "      <td>18</td>\n",
       "      <td>0</td>\n",
       "      <td>4.106061</td>\n",
       "    </tr>\n",
       "    <tr>\n",
       "      <th>11</th>\n",
       "      <td>2550</td>\n",
       "      <td>108</td>\n",
       "      <td>0</td>\n",
       "      <td>10.039370</td>\n",
       "      <td>3430</td>\n",
       "      <td>125</td>\n",
       "      <td>0</td>\n",
       "      <td>13.503937</td>\n",
       "      <td>77</td>\n",
       "      <td>5</td>\n",
       "      <td>0</td>\n",
       "      <td>0.303150</td>\n",
       "      <td>1062</td>\n",
       "      <td>43</td>\n",
       "      <td>1</td>\n",
       "      <td>4.181102</td>\n",
       "      <td>1049</td>\n",
       "      <td>27</td>\n",
       "      <td>0</td>\n",
       "      <td>4.129921</td>\n",
       "    </tr>\n",
       "    <tr>\n",
       "      <th>12</th>\n",
       "      <td>4054</td>\n",
       "      <td>168</td>\n",
       "      <td>0</td>\n",
       "      <td>10.753316</td>\n",
       "      <td>5494</td>\n",
       "      <td>163</td>\n",
       "      <td>0</td>\n",
       "      <td>14.572944</td>\n",
       "      <td>122</td>\n",
       "      <td>7</td>\n",
       "      <td>0</td>\n",
       "      <td>0.323607</td>\n",
       "      <td>1534</td>\n",
       "      <td>25</td>\n",
       "      <td>1</td>\n",
       "      <td>4.068966</td>\n",
       "      <td>1658</td>\n",
       "      <td>64</td>\n",
       "      <td>0</td>\n",
       "      <td>4.397878</td>\n",
       "    </tr>\n",
       "    <tr>\n",
       "      <th>13</th>\n",
       "      <td>5606</td>\n",
       "      <td>97</td>\n",
       "      <td>0</td>\n",
       "      <td>11.167331</td>\n",
       "      <td>7645</td>\n",
       "      <td>247</td>\n",
       "      <td>0</td>\n",
       "      <td>15.229084</td>\n",
       "      <td>162</td>\n",
       "      <td>8</td>\n",
       "      <td>0</td>\n",
       "      <td>0.322709</td>\n",
       "      <td>2102</td>\n",
       "      <td>23</td>\n",
       "      <td>1</td>\n",
       "      <td>4.187251</td>\n",
       "      <td>2096</td>\n",
       "      <td>27</td>\n",
       "      <td>0</td>\n",
       "      <td>4.175299</td>\n",
       "    </tr>\n",
       "    <tr>\n",
       "      <th>14</th>\n",
       "      <td>7605</td>\n",
       "      <td>142</td>\n",
       "      <td>0</td>\n",
       "      <td>11.901408</td>\n",
       "      <td>10916</td>\n",
       "      <td>306</td>\n",
       "      <td>0</td>\n",
       "      <td>17.082942</td>\n",
       "      <td>260</td>\n",
       "      <td>10</td>\n",
       "      <td>0</td>\n",
       "      <td>0.406886</td>\n",
       "      <td>2736</td>\n",
       "      <td>21</td>\n",
       "      <td>0</td>\n",
       "      <td>4.281690</td>\n",
       "      <td>2852</td>\n",
       "      <td>40</td>\n",
       "      <td>0</td>\n",
       "      <td>4.463224</td>\n",
       "    </tr>\n",
       "    <tr>\n",
       "      <th>15</th>\n",
       "      <td>9626</td>\n",
       "      <td>123</td>\n",
       "      <td>0</td>\n",
       "      <td>11.611580</td>\n",
       "      <td>12633</td>\n",
       "      <td>162</td>\n",
       "      <td>0</td>\n",
       "      <td>15.238842</td>\n",
       "      <td>331</td>\n",
       "      <td>7</td>\n",
       "      <td>0</td>\n",
       "      <td>0.399276</td>\n",
       "      <td>3392</td>\n",
       "      <td>29</td>\n",
       "      <td>1</td>\n",
       "      <td>4.091677</td>\n",
       "      <td>3460</td>\n",
       "      <td>28</td>\n",
       "      <td>0</td>\n",
       "      <td>4.173703</td>\n",
       "    </tr>\n",
       "    <tr>\n",
       "      <th>16</th>\n",
       "      <td>12930</td>\n",
       "      <td>218</td>\n",
       "      <td>0</td>\n",
       "      <td>12.565598</td>\n",
       "      <td>17652</td>\n",
       "      <td>223</td>\n",
       "      <td>0</td>\n",
       "      <td>17.154519</td>\n",
       "      <td>508</td>\n",
       "      <td>9</td>\n",
       "      <td>0</td>\n",
       "      <td>0.493683</td>\n",
       "      <td>4214</td>\n",
       "      <td>26</td>\n",
       "      <td>0</td>\n",
       "      <td>4.095238</td>\n",
       "      <td>4352</td>\n",
       "      <td>32</td>\n",
       "      <td>0</td>\n",
       "      <td>4.229349</td>\n",
       "    </tr>\n",
       "    <tr>\n",
       "      <th>17</th>\n",
       "      <td>15357</td>\n",
       "      <td>116</td>\n",
       "      <td>0</td>\n",
       "      <td>12.883389</td>\n",
       "      <td>21341</td>\n",
       "      <td>278</td>\n",
       "      <td>0</td>\n",
       "      <td>17.903523</td>\n",
       "      <td>560</td>\n",
       "      <td>9</td>\n",
       "      <td>0</td>\n",
       "      <td>0.469799</td>\n",
       "      <td>5098</td>\n",
       "      <td>29</td>\n",
       "      <td>0</td>\n",
       "      <td>4.276846</td>\n",
       "      <td>5122</td>\n",
       "      <td>27</td>\n",
       "      <td>0</td>\n",
       "      <td>4.296980</td>\n",
       "    </tr>\n",
       "    <tr>\n",
       "      <th>18</th>\n",
       "      <td>13942</td>\n",
       "      <td>216</td>\n",
       "      <td>0</td>\n",
       "      <td>12.197725</td>\n",
       "      <td>18952</td>\n",
       "      <td>372</td>\n",
       "      <td>0</td>\n",
       "      <td>16.580927</td>\n",
       "      <td>571</td>\n",
       "      <td>20</td>\n",
       "      <td>0</td>\n",
       "      <td>0.499563</td>\n",
       "      <td>4541</td>\n",
       "      <td>30</td>\n",
       "      <td>1</td>\n",
       "      <td>3.972878</td>\n",
       "      <td>4675</td>\n",
       "      <td>31</td>\n",
       "      <td>0</td>\n",
       "      <td>4.090114</td>\n",
       "    </tr>\n",
       "    <tr>\n",
       "      <th>19</th>\n",
       "      <td>15460</td>\n",
       "      <td>153</td>\n",
       "      <td>0</td>\n",
       "      <td>13.281787</td>\n",
       "      <td>20446</td>\n",
       "      <td>172</td>\n",
       "      <td>0</td>\n",
       "      <td>17.565292</td>\n",
       "      <td>560</td>\n",
       "      <td>12</td>\n",
       "      <td>0</td>\n",
       "      <td>0.481100</td>\n",
       "      <td>4623</td>\n",
       "      <td>26</td>\n",
       "      <td>0</td>\n",
       "      <td>3.971649</td>\n",
       "      <td>5087</td>\n",
       "      <td>48</td>\n",
       "      <td>0</td>\n",
       "      <td>4.370275</td>\n",
       "    </tr>\n",
       "    <tr>\n",
       "      <th>20</th>\n",
       "      <td>14753</td>\n",
       "      <td>210</td>\n",
       "      <td>0</td>\n",
       "      <td>12.862249</td>\n",
       "      <td>21296</td>\n",
       "      <td>293</td>\n",
       "      <td>0</td>\n",
       "      <td>18.566696</td>\n",
       "      <td>471</td>\n",
       "      <td>13</td>\n",
       "      <td>0</td>\n",
       "      <td>0.410636</td>\n",
       "      <td>4794</td>\n",
       "      <td>27</td>\n",
       "      <td>1</td>\n",
       "      <td>4.179599</td>\n",
       "      <td>4965</td>\n",
       "      <td>43</td>\n",
       "      <td>0</td>\n",
       "      <td>4.328684</td>\n",
       "    </tr>\n",
       "    <tr>\n",
       "      <th>21</th>\n",
       "      <td>15171</td>\n",
       "      <td>189</td>\n",
       "      <td>0</td>\n",
       "      <td>13.343008</td>\n",
       "      <td>20301</td>\n",
       "      <td>345</td>\n",
       "      <td>0</td>\n",
       "      <td>17.854881</td>\n",
       "      <td>655</td>\n",
       "      <td>20</td>\n",
       "      <td>0</td>\n",
       "      <td>0.576077</td>\n",
       "      <td>4848</td>\n",
       "      <td>33</td>\n",
       "      <td>0</td>\n",
       "      <td>4.263852</td>\n",
       "      <td>4960</td>\n",
       "      <td>39</td>\n",
       "      <td>0</td>\n",
       "      <td>4.362357</td>\n",
       "    </tr>\n",
       "    <tr>\n",
       "      <th>22</th>\n",
       "      <td>17291</td>\n",
       "      <td>154</td>\n",
       "      <td>0</td>\n",
       "      <td>13.219419</td>\n",
       "      <td>24684</td>\n",
       "      <td>232</td>\n",
       "      <td>0</td>\n",
       "      <td>18.871560</td>\n",
       "      <td>674</td>\n",
       "      <td>13</td>\n",
       "      <td>0</td>\n",
       "      <td>0.515291</td>\n",
       "      <td>5539</td>\n",
       "      <td>26</td>\n",
       "      <td>0</td>\n",
       "      <td>4.234709</td>\n",
       "      <td>5557</td>\n",
       "      <td>50</td>\n",
       "      <td>0</td>\n",
       "      <td>4.248471</td>\n",
       "    </tr>\n",
       "    <tr>\n",
       "      <th>23</th>\n",
       "      <td>21427</td>\n",
       "      <td>149</td>\n",
       "      <td>0</td>\n",
       "      <td>13.877591</td>\n",
       "      <td>30359</td>\n",
       "      <td>335</td>\n",
       "      <td>0</td>\n",
       "      <td>19.662565</td>\n",
       "      <td>789</td>\n",
       "      <td>12</td>\n",
       "      <td>0</td>\n",
       "      <td>0.511010</td>\n",
       "      <td>6427</td>\n",
       "      <td>29</td>\n",
       "      <td>0</td>\n",
       "      <td>4.162565</td>\n",
       "      <td>6909</td>\n",
       "      <td>51</td>\n",
       "      <td>0</td>\n",
       "      <td>4.474741</td>\n",
       "    </tr>\n",
       "  </tbody>\n",
       "</table>\n",
       "</div>"
      ],
      "text/plain": [
       "     event_1                      event_2                      event_3       \\\n",
       "         sum amax amin       mean     sum amax amin       mean     sum amax   \n",
       "hour                                                                          \n",
       "0      21550  167    0  15.706997   29663  437    0  21.620262     882   10   \n",
       "1      25061  179    0  16.390451   33646  344    0  22.005232    1071   18   \n",
       "2      22494  165    0  16.078628   30325  274    0  21.676197     922   11   \n",
       "3      19218  154    0  15.362110   25613  219    0  20.474021     771   16   \n",
       "4      13334  141    0  15.135074   17306  207    0  19.643587     510   12   \n",
       "5       7423  111    0  14.526419   10218  264    0  19.996086     295   14   \n",
       "6       4575  141    0  15.508475    6133  182    0  20.789831     174    9   \n",
       "7       2227  115    0  13.255952    3273  240    0  19.482143      72    4   \n",
       "8       1204   74    0  11.576923    1823   90    0  17.528846      32    4   \n",
       "9        850  113    0   9.139785    1112  114    0  11.956989      19    3   \n",
       "10      1326   57    0  10.045455    1934  125    0  14.651515      49    4   \n",
       "11      2550  108    0  10.039370    3430  125    0  13.503937      77    5   \n",
       "12      4054  168    0  10.753316    5494  163    0  14.572944     122    7   \n",
       "13      5606   97    0  11.167331    7645  247    0  15.229084     162    8   \n",
       "14      7605  142    0  11.901408   10916  306    0  17.082942     260   10   \n",
       "15      9626  123    0  11.611580   12633  162    0  15.238842     331    7   \n",
       "16     12930  218    0  12.565598   17652  223    0  17.154519     508    9   \n",
       "17     15357  116    0  12.883389   21341  278    0  17.903523     560    9   \n",
       "18     13942  216    0  12.197725   18952  372    0  16.580927     571   20   \n",
       "19     15460  153    0  13.281787   20446  172    0  17.565292     560   12   \n",
       "20     14753  210    0  12.862249   21296  293    0  18.566696     471   13   \n",
       "21     15171  189    0  13.343008   20301  345    0  17.854881     655   20   \n",
       "22     17291  154    0  13.219419   24684  232    0  18.871560     674   13   \n",
       "23     21427  149    0  13.877591   30359  335    0  19.662565     789   12   \n",
       "\n",
       "                    event_4                     event_5                      \n",
       "     amin      mean     sum amax amin      mean     sum amax amin      mean  \n",
       "hour                                                                         \n",
       "0       0  0.642857    6615   28    0  4.821429    6778   46    0  4.940233  \n",
       "1       0  0.700458    7535   34    0  4.928058    7454   42    0  4.875082  \n",
       "2       0  0.659042    6638   37    0  4.744818    6473   47    0  4.626876  \n",
       "3       0  0.616307    5915   56    0  4.728217    5509   35    0  4.403677  \n",
       "4       0  0.578888    3813   26    0  4.328036    4127   35    0  4.684449  \n",
       "5       0  0.577299    2240   31    0  4.383562    2411   30    0  4.718200  \n",
       "6       0  0.589831    1248   26    1  4.230508    1420   28    0  4.813559  \n",
       "7       0  0.428571     642   22    1  3.821429     745   23    0  4.434524  \n",
       "8       0  0.307692     347   15    1  3.336538     495   20    0  4.759615  \n",
       "9       0  0.204301     354   13    1  3.806452     354   14    0  3.806452  \n",
       "10      0  0.371212     567   27    1  4.295455     542   18    0  4.106061  \n",
       "11      0  0.303150    1062   43    1  4.181102    1049   27    0  4.129921  \n",
       "12      0  0.323607    1534   25    1  4.068966    1658   64    0  4.397878  \n",
       "13      0  0.322709    2102   23    1  4.187251    2096   27    0  4.175299  \n",
       "14      0  0.406886    2736   21    0  4.281690    2852   40    0  4.463224  \n",
       "15      0  0.399276    3392   29    1  4.091677    3460   28    0  4.173703  \n",
       "16      0  0.493683    4214   26    0  4.095238    4352   32    0  4.229349  \n",
       "17      0  0.469799    5098   29    0  4.276846    5122   27    0  4.296980  \n",
       "18      0  0.499563    4541   30    1  3.972878    4675   31    0  4.090114  \n",
       "19      0  0.481100    4623   26    0  3.971649    5087   48    0  4.370275  \n",
       "20      0  0.410636    4794   27    1  4.179599    4965   43    0  4.328684  \n",
       "21      0  0.576077    4848   33    0  4.263852    4960   39    0  4.362357  \n",
       "22      0  0.515291    5539   26    0  4.234709    5557   50    0  4.248471  \n",
       "23      0  0.511010    6427   29    0  4.162565    6909   51    0  4.474741  "
      ]
     },
     "execution_count": 68,
     "metadata": {},
     "output_type": "execute_result"
    }
   ],
   "source": [
    "#Estadistica descriptiva \n",
    "\n",
    "juego.groupby('hour')[['event_1', \"event_2\", 'event_3', 'event_4', 'event_5']].agg([np.sum, np.max, np.min, np.mean])"
   ]
  },
  {
   "cell_type": "code",
   "execution_count": 69,
   "metadata": {},
   "outputs": [],
   "source": [
    "#Guardo tabla\n",
    "\n",
    "juego.groupby('hour')[['event_1', \"event_2\", 'event_3', 'event_4', 'event_5']].agg([np.sum, np.max, np.min, np.mean]).to_csv(\"eventos_por_hora.csv\")"
   ]
  },
  {
   "cell_type": "markdown",
   "metadata": {},
   "source": [
    "--------"
   ]
  },
  {
   "cell_type": "markdown",
   "metadata": {},
   "source": [
    "<h3>Plataforma</h3>"
   ]
  },
  {
   "cell_type": "code",
   "execution_count": 73,
   "metadata": {},
   "outputs": [
    {
     "data": {
      "image/png": "[encoded data removed]",
      "text/plain": [
       "<Figure size 842.4x595.44 with 1 Axes>"
      ]
     },
     "metadata": {},
     "output_type": "display_data"
    }
   ],
   "source": [
    "juego.platform.value_counts().plot.bar()\n",
    "plt.title('Plataformas utilizadas en el dataset', fontsize = 20)\n",
    "plt.xlabel('Plataforma')\n",
    "plt.ylabel('Cantidad')\n",
    "plt.show()"
   ]
  },
  {
   "cell_type": "code",
   "execution_count": 75,
   "metadata": {},
   "outputs": [
    {
     "data": {
      "text/plain": [
       "Android    0.9756\n",
       "iOS        0.0244\n",
       "Name: platform, dtype: float64"
      ]
     },
     "execution_count": 75,
     "metadata": {},
     "output_type": "execute_result"
    }
   ],
   "source": [
    "juego.platform.value_counts(normalize = True)"
   ]
  },
  {
   "cell_type": "markdown",
   "metadata": {},
   "source": [
    "<p>El <strong>98%</strong> de los datos se ejecutaron en plataforma Android, algo esperable frente al mercado mientras que el <strong>2%</strong> restante corresponde a iOS</p>"
   ]
  },
  {
   "cell_type": "markdown",
   "metadata": {},
   "source": [
    "<h3>Country Region</h3>"
   ]
  },
  {
   "cell_type": "code",
   "execution_count": 92,
   "metadata": {},
   "outputs": [
    {
     "data": {
      "image/png": "[encoded data removed]",
      "text/plain": [
       "<Figure size 842.4x595.44 with 1 Axes>"
      ]
     },
     "metadata": {},
     "output_type": "display_data"
    }
   ],
   "source": [
    "#Top 10 provincias de mayor presencia\n",
    "\n",
    "juego['country_region'].value_counts().head(10).plot.bar(color = \"lightblue\")\n",
    "plt.title('Top 10 - Provincias de Argentina', fontsize = 17)\n",
    "plt.xlabel('Provincias')\n",
    "plt.ylabel('Cantidad')\n",
    "plt.show()"
   ]
  },
  {
   "cell_type": "code",
   "execution_count": 93,
   "metadata": {},
   "outputs": [
    {
     "data": {
      "text/plain": [
       "Buenos Aires           0.349931\n",
       "CABA                   0.159572\n",
       "Cordoba                0.097331\n",
       "Entre Rios             0.059065\n",
       "Santa Fe               0.045387\n",
       "Tucuman                0.040111\n",
       "Mendoza                0.035142\n",
       "Salta                  0.035090\n",
       "Chaco                  0.020081\n",
       "Misiones               0.018186\n",
       "Corrientes             0.016956\n",
       "Neuquen                0.013370\n",
       "Santiago del Estero    0.011987\n",
       "San Luis               0.011987\n",
       "Formosa                0.010860\n",
       "La Rioja               0.010655\n",
       "Rio Negro              0.010655\n",
       "San Juan               0.010245\n",
       "Jujuy                  0.009682\n",
       "Chubut                 0.009272\n",
       "La Pampa               0.008401\n",
       "Catamarca              0.007172\n",
       "Santa Cruz             0.005276\n",
       "Tierra del Fuego       0.003586\n",
       "Name: country_region, dtype: float64"
      ]
     },
     "execution_count": 93,
     "metadata": {},
     "output_type": "execute_result"
    }
   ],
   "source": [
    "juego['country_region'].value_counts(normalize = True)"
   ]
  },
  {
   "cell_type": "markdown",
   "metadata": {},
   "source": [
    "<p>El <strong>34%</strong> de nuestros datos corresponden a Buenos Aires provincia mientras que CABA tiene un <strong>15%</strong>. Le siguen Córdoba, Entre Ríos, Santa Fe, Tucumán y Mendoza. <br>\n",
    "    La provincia que menor representación tiene en este dataset es <strong>Tierra del Fuego</strong>"
   ]
  },
  {
   "cell_type": "markdown",
   "metadata": {},
   "source": [
    "### Tenemos una pregunta... tendrán las provincias patrones similares en cuanto a la hora del día en al que juegan? ... Lo vemos tomando una provincia por región del país en estudio"
   ]
  },
  {
   "cell_type": "code",
   "execution_count": 97,
   "metadata": {},
   "outputs": [],
   "source": [
    "#Filtro provincias\n",
    "\n",
    "provincias = juego[(juego['country_region'] == \"Buenos Aires\") | (juego['country_region'] == \"Cordoba\") |\n",
    "     (juego['country_region'] == \"Mendoza\") | (juego['country_region'] == \"Tucuman\") | (juego['country_region'] == \"Chubut\")]"
   ]
  },
  {
   "cell_type": "code",
   "execution_count": 98,
   "metadata": {},
   "outputs": [
    {
     "data": {
      "text/plain": [
       "(10381, 16)"
      ]
     },
     "execution_count": 98,
     "metadata": {},
     "output_type": "execute_result"
    }
   ],
   "source": [
    "#Formato\n",
    "\n",
    "provincias.shape"
   ]
  },
  {
   "cell_type": "code",
   "execution_count": 99,
   "metadata": {},
   "outputs": [
    {
     "data": {
      "text/plain": [
       "Buenos Aires    6831\n",
       "Cordoba         1900\n",
       "Tucuman          783\n",
       "Mendoza          686\n",
       "Chubut           181\n",
       "Name: country_region, dtype: int64"
      ]
     },
     "execution_count": 99,
     "metadata": {},
     "output_type": "execute_result"
    }
   ],
   "source": [
    "#Chequeo que el filtro este ok\n",
    "\n",
    "provincias['country_region'].value_counts()"
   ]
  },
  {
   "cell_type": "code",
   "execution_count": 107,
   "metadata": {},
   "outputs": [],
   "source": [
    "#Se agrupa\n",
    "\n",
    "horas_provincia = provincias.groupby(['country_region', 'hour'])['user_id'].count().to_frame()"
   ]
  },
  {
   "cell_type": "code",
   "execution_count": 108,
   "metadata": {},
   "outputs": [],
   "source": [
    "#Se resetea index\n",
    "\n",
    "horas_provincia = horas_provincia.reset_index()"
   ]
  },
  {
   "cell_type": "code",
   "execution_count": 115,
   "metadata": {},
   "outputs": [
    {
     "data": {
      "image/png": "[encoded data removed]",
      "text/plain": [
       "<Figure size 842.4x595.44 with 1 Axes>"
      ]
     },
     "metadata": {},
     "output_type": "display_data"
    }
   ],
   "source": [
    "#Se grafica para evaluar tendencias\n",
    "#Se lo hace en escala logaritmica para que todos tengan una representación\n",
    "\n",
    "grafico = sns.lineplot(data = horas_provincia, x = \"hour\", y = \"user_id\", hue=\"country_region\")\n",
    "grafico.set(yscale = \"log\")\n",
    "plt.title('Actividad del usuario por hora - Desglose provincias', fontsize = 20)\n",
    "plt.xlabel('Hora')\n",
    "plt.ylabel('Escala Log')\n",
    "plt.show()"
   ]
  },
  {
   "cell_type": "markdown",
   "metadata": {},
   "source": [
    "<p> Se observan patrones similares de comportamientos en las provincias del país a pesar de su distancia y su diferencia en cuanto a costumbres. Se observa un arranque exponencial de Mendoza a partir de las 10 am y se observa una pequeña distorsión en provincia de Chubut, perteneciente al sur de Argentina. Aquí se observa que a partir de las 15 hay un mesetamiento, que se mantiene hasta horarios cerca de las 4 am.</p>"
   ]
  },
  {
   "cell_type": "code",
   "execution_count": null,
   "metadata": {},
   "outputs": [],
   "source": []
  }
 ],
 "metadata": {
  "kernelspec": {
   "display_name": "Python 3",
   "language": "python",
   "name": "python3"
  },
  "language_info": {
   "codemirror_mode": {
    "name": "ipython",
    "version": 3
   },
   "file_extension": ".py",
   "mimetype": "text/x-python",
   "name": "python",
   "nbconvert_exporter": "python",
   "pygments_lexer": "ipython3",
   "version": "3.6.9"
  }
 },
 "nbformat": 4,
 "nbformat_minor": 4
}
