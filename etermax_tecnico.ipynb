{
 "cells": [
  {
   "cell_type": "markdown",
   "metadata": {},
   "source": [
    "<h2><font color=blue>Desafío técnico Etermax </h2><br><h3><strong>Objetivo</strong> </h3><br>El objetivo del ejercicio es hacer un análisis del dataset y presentar insights y accionables que el candidato considere valiosos.<br>Autor: <strong>Rodolfo Pardo</strong></font>"
   ]
  },
  {
   "cell_type": "markdown",
   "metadata": {},
   "source": [
    "---------"
   ]
  },
  {
   "cell_type": "markdown",
   "metadata": {},
   "source": [
    "<h2>First step: Data Exploration</h2>"
   ]
  },
  {
   "cell_type": "code",
   "execution_count": 123,
   "metadata": {},
   "outputs": [],
   "source": [
    "#Se importan las librerías necesarias para el estudio\n",
    "\n",
    "import pandas as pd\n",
    "import numpy as np \n",
    "import matplotlib.pyplot as plt \n",
    "import seaborn as sns \n",
    "sns.set(rc={'figure.figsize':(11.7,8.27)})\n",
    "\n",
    "import warnings\n",
    "warnings.filterwarnings('ignore')"
   ]
  },
  {
   "cell_type": "code",
   "execution_count": 124,
   "metadata": {},
   "outputs": [],
   "source": [
    "#Se lee dataset \n",
    "\n",
    "juego = pd.read_csv('dataset.csv')"
   ]
  },
  {
   "cell_type": "code",
   "execution_count": 125,
   "metadata": {},
   "outputs": [
    {
     "name": "stdout",
     "output_type": "stream",
     "text": [
      "Tenemos un dataset de 20000 filas con 14 variables para analizar\n"
     ]
    }
   ],
   "source": [
    "#Se conoce las dimensiones de nuestro dataset\n",
    "\n",
    "print('Tenemos un dataset de {} filas con {} variables para analizar'.format(juego.shape[0], juego.shape[1]))"
   ]
  },
  {
   "cell_type": "code",
   "execution_count": 126,
   "metadata": {},
   "outputs": [
    {
     "name": "stdout",
     "output_type": "stream",
     "text": [
      "<class 'pandas.core.frame.DataFrame'>\n",
      "RangeIndex: 20000 entries, 0 to 19999\n",
      "Data columns (total 14 columns):\n",
      " #   Column                  Non-Null Count  Dtype \n",
      "---  ------                  --------------  ----- \n",
      " 0   user_id                 20000 non-null  object\n",
      " 1   install_time            20000 non-null  object\n",
      " 2   platform                20000 non-null  object\n",
      " 3   country_region          19521 non-null  object\n",
      " 4   city                    19065 non-null  object\n",
      " 5   gender                  20000 non-null  object\n",
      " 6   min_age_range           20000 non-null  int64 \n",
      " 7   max_age_range           20000 non-null  int64 \n",
      " 8   event_1                 20000 non-null  int64 \n",
      " 9   event_2                 20000 non-null  int64 \n",
      " 10  event_3                 20000 non-null  int64 \n",
      " 11  event_4                 20000 non-null  int64 \n",
      " 12  event_5                 20000 non-null  int64 \n",
      " 13  target_churn_indicator  20000 non-null  int64 \n",
      "dtypes: int64(8), object(6)\n",
      "memory usage: 2.1+ MB\n"
     ]
    }
   ],
   "source": [
    "#Se conocen los tipos de datasets presentes \n",
    "\n",
    "juego.info()"
   ]
  },
  {
   "cell_type": "markdown",
   "metadata": {},
   "source": [
    "<p>Podemos observar un <strong>dataset</strong> que contiene columnas con tipos de datos <strong><font color=red>incorrectos</font></strong> tales como install_time "
   ]
  },
  {
   "cell_type": "code",
   "execution_count": 127,
   "metadata": {},
   "outputs": [
    {
     "data": {
      "text/html": [
       "<div>\n",
       "<style scoped>\n",
       "    .dataframe tbody tr th:only-of-type {\n",
       "        vertical-align: middle;\n",
       "    }\n",
       "\n",
       "    .dataframe tbody tr th {\n",
       "        vertical-align: top;\n",
       "    }\n",
       "\n",
       "    .dataframe thead th {\n",
       "        text-align: right;\n",
       "    }\n",
       "</style>\n",
       "<table border=\"1\" class=\"dataframe\">\n",
       "  <thead>\n",
       "    <tr style=\"text-align: right;\">\n",
       "      <th></th>\n",
       "      <th>min_age_range</th>\n",
       "      <th>max_age_range</th>\n",
       "      <th>event_1</th>\n",
       "      <th>event_2</th>\n",
       "      <th>event_3</th>\n",
       "      <th>event_4</th>\n",
       "      <th>event_5</th>\n",
       "      <th>target_churn_indicator</th>\n",
       "    </tr>\n",
       "  </thead>\n",
       "  <tbody>\n",
       "    <tr>\n",
       "      <th>count</th>\n",
       "      <td>20000.000000</td>\n",
       "      <td>20000.000000</td>\n",
       "      <td>20000.000000</td>\n",
       "      <td>20000.00000</td>\n",
       "      <td>20000.000000</td>\n",
       "      <td>20000.000000</td>\n",
       "      <td>20000.000000</td>\n",
       "      <td>20000.000000</td>\n",
       "    </tr>\n",
       "    <tr>\n",
       "      <th>mean</th>\n",
       "      <td>16.145300</td>\n",
       "      <td>18.884050</td>\n",
       "      <td>13.751700</td>\n",
       "      <td>18.80975</td>\n",
       "      <td>0.526850</td>\n",
       "      <td>4.341200</td>\n",
       "      <td>4.452500</td>\n",
       "      <td>0.540700</td>\n",
       "    </tr>\n",
       "    <tr>\n",
       "      <th>std</th>\n",
       "      <td>2.420017</td>\n",
       "      <td>1.450452</td>\n",
       "      <td>19.041115</td>\n",
       "      <td>26.93790</td>\n",
       "      <td>1.245695</td>\n",
       "      <td>4.218456</td>\n",
       "      <td>4.506946</td>\n",
       "      <td>0.498353</td>\n",
       "    </tr>\n",
       "    <tr>\n",
       "      <th>min</th>\n",
       "      <td>13.000000</td>\n",
       "      <td>13.000000</td>\n",
       "      <td>0.000000</td>\n",
       "      <td>0.00000</td>\n",
       "      <td>0.000000</td>\n",
       "      <td>0.000000</td>\n",
       "      <td>0.000000</td>\n",
       "      <td>0.000000</td>\n",
       "    </tr>\n",
       "    <tr>\n",
       "      <th>25%</th>\n",
       "      <td>13.000000</td>\n",
       "      <td>17.000000</td>\n",
       "      <td>2.000000</td>\n",
       "      <td>3.00000</td>\n",
       "      <td>0.000000</td>\n",
       "      <td>1.000000</td>\n",
       "      <td>2.000000</td>\n",
       "      <td>0.000000</td>\n",
       "    </tr>\n",
       "    <tr>\n",
       "      <th>50%</th>\n",
       "      <td>18.000000</td>\n",
       "      <td>20.000000</td>\n",
       "      <td>6.000000</td>\n",
       "      <td>9.00000</td>\n",
       "      <td>0.000000</td>\n",
       "      <td>3.000000</td>\n",
       "      <td>3.000000</td>\n",
       "      <td>1.000000</td>\n",
       "    </tr>\n",
       "    <tr>\n",
       "      <th>75%</th>\n",
       "      <td>18.000000</td>\n",
       "      <td>20.000000</td>\n",
       "      <td>18.000000</td>\n",
       "      <td>24.00000</td>\n",
       "      <td>1.000000</td>\n",
       "      <td>6.000000</td>\n",
       "      <td>6.000000</td>\n",
       "      <td>1.000000</td>\n",
       "    </tr>\n",
       "    <tr>\n",
       "      <th>max</th>\n",
       "      <td>21.000000</td>\n",
       "      <td>20.000000</td>\n",
       "      <td>218.000000</td>\n",
       "      <td>437.00000</td>\n",
       "      <td>20.000000</td>\n",
       "      <td>56.000000</td>\n",
       "      <td>64.000000</td>\n",
       "      <td>1.000000</td>\n",
       "    </tr>\n",
       "  </tbody>\n",
       "</table>\n",
       "</div>"
      ],
      "text/plain": [
       "       min_age_range  max_age_range       event_1      event_2       event_3  \\\n",
       "count   20000.000000   20000.000000  20000.000000  20000.00000  20000.000000   \n",
       "mean       16.145300      18.884050     13.751700     18.80975      0.526850   \n",
       "std         2.420017       1.450452     19.041115     26.93790      1.245695   \n",
       "min        13.000000      13.000000      0.000000      0.00000      0.000000   \n",
       "25%        13.000000      17.000000      2.000000      3.00000      0.000000   \n",
       "50%        18.000000      20.000000      6.000000      9.00000      0.000000   \n",
       "75%        18.000000      20.000000     18.000000     24.00000      1.000000   \n",
       "max        21.000000      20.000000    218.000000    437.00000     20.000000   \n",
       "\n",
       "            event_4       event_5  target_churn_indicator  \n",
       "count  20000.000000  20000.000000            20000.000000  \n",
       "mean       4.341200      4.452500                0.540700  \n",
       "std        4.218456      4.506946                0.498353  \n",
       "min        0.000000      0.000000                0.000000  \n",
       "25%        1.000000      2.000000                0.000000  \n",
       "50%        3.000000      3.000000                1.000000  \n",
       "75%        6.000000      6.000000                1.000000  \n",
       "max       56.000000     64.000000                1.000000  "
      ]
     },
     "execution_count": 127,
     "metadata": {},
     "output_type": "execute_result"
    }
   ],
   "source": [
    "#Estadistica descriptiva de las principales variables cuantitativas del dataset\n",
    "\n",
    "juego.describe()"
   ]
  },
  {
   "cell_type": "markdown",
   "metadata": {},
   "source": [
    "<p>A simple vista, podemos observar que los datos de las variables <strong>min_age_range</strong> y <strong>max_age_range</strong> se concentran entre los 16 y 21 con desviaciones standar mínimas. <br>\n",
    "<p>No así en los <strong>eventos</strong>, que podemos observar algunos valores outliers que vamos a poder estudiar y visualizar en gráficos de caja <p>"
   ]
  },
  {
   "cell_type": "code",
   "execution_count": 128,
   "metadata": {},
   "outputs": [
    {
     "data": {
      "text/plain": [
       "Index(['user_id', 'install_time', 'platform', 'country_region', 'city',\n",
       "       'gender', 'min_age_range', 'max_age_range', 'event_1', 'event_2',\n",
       "       'event_3', 'event_4', 'event_5', 'target_churn_indicator'],\n",
       "      dtype='object')"
      ]
     },
     "execution_count": 128,
     "metadata": {},
     "output_type": "execute_result"
    }
   ],
   "source": [
    "#Observamos el nombre de las columnas \n",
    "\n",
    "juego.columns"
   ]
  },
  {
   "cell_type": "code",
   "execution_count": 129,
   "metadata": {},
   "outputs": [
    {
     "data": {
      "text/plain": [
       "user_id                     0\n",
       "install_time                0\n",
       "platform                    0\n",
       "country_region            479\n",
       "city                      935\n",
       "gender                      0\n",
       "min_age_range               0\n",
       "max_age_range               0\n",
       "event_1                     0\n",
       "event_2                     0\n",
       "event_3                     0\n",
       "event_4                     0\n",
       "event_5                     0\n",
       "target_churn_indicator      0\n",
       "dtype: int64"
      ]
     },
     "execution_count": 129,
     "metadata": {},
     "output_type": "execute_result"
    }
   ],
   "source": [
    "#Encontrar valores nulos \n",
    "\n",
    "juego.isnull().sum()"
   ]
  },
  {
   "cell_type": "code",
   "execution_count": 130,
   "metadata": {},
   "outputs": [
    {
     "data": {
      "text/plain": [
       "user_id                   0.00000\n",
       "install_time              0.00000\n",
       "platform                  0.00000\n",
       "country_region            0.02395\n",
       "city                      0.04675\n",
       "gender                    0.00000\n",
       "min_age_range             0.00000\n",
       "max_age_range             0.00000\n",
       "event_1                   0.00000\n",
       "event_2                   0.00000\n",
       "event_3                   0.00000\n",
       "event_4                   0.00000\n",
       "event_5                   0.00000\n",
       "target_churn_indicator    0.00000\n",
       "dtype: float64"
      ]
     },
     "execution_count": 130,
     "metadata": {},
     "output_type": "execute_result"
    }
   ],
   "source": [
    "#Encontrando porcentajes de valores nulos \n",
    "\n",
    "juego.isnull().sum()/len(juego.index)"
   ]
  },
  {
   "cell_type": "markdown",
   "metadata": {},
   "source": [
    "<p>Se observa dos columnas con presencia de valores nulos:\n",
    "<ol>\n",
    "    <li><strong>country_region:</strong> 2,3% de sus valores son nulos</li>\n",
    "    <li><strong>city:</strong> 4,6% de sus valores son nulos</li>\n",
    "</ol>\n",
    "<p><strong>Las dos columnas son de geolocalización del jugador y sus valores nulos no resultan significantes ante la muestra por lo que no vamos a eliminar</strong></p>"
   ]
  },
  {
   "cell_type": "code",
   "execution_count": 131,
   "metadata": {},
   "outputs": [
    {
     "name": "stdout",
     "output_type": "stream",
     "text": [
      "Valores duplicados en nuestro dataset: 0\n"
     ]
    }
   ],
   "source": [
    "#Presencia de valores duplicados\n",
    "\n",
    "print(\"Valores duplicados en nuestro dataset: {}\".format(juego.duplicated(subset=None, keep=False).sum()))"
   ]
  },
  {
   "cell_type": "code",
   "execution_count": 132,
   "metadata": {},
   "outputs": [
    {
     "data": {
      "text/html": [
       "<div>\n",
       "<style scoped>\n",
       "    .dataframe tbody tr th:only-of-type {\n",
       "        vertical-align: middle;\n",
       "    }\n",
       "\n",
       "    .dataframe tbody tr th {\n",
       "        vertical-align: top;\n",
       "    }\n",
       "\n",
       "    .dataframe thead th {\n",
       "        text-align: right;\n",
       "    }\n",
       "</style>\n",
       "<table border=\"1\" class=\"dataframe\">\n",
       "  <thead>\n",
       "    <tr style=\"text-align: right;\">\n",
       "      <th></th>\n",
       "      <th>user_id</th>\n",
       "      <th>install_time</th>\n",
       "      <th>platform</th>\n",
       "      <th>country_region</th>\n",
       "      <th>city</th>\n",
       "      <th>gender</th>\n",
       "      <th>min_age_range</th>\n",
       "      <th>max_age_range</th>\n",
       "      <th>event_1</th>\n",
       "      <th>event_2</th>\n",
       "      <th>event_3</th>\n",
       "      <th>event_4</th>\n",
       "      <th>event_5</th>\n",
       "      <th>target_churn_indicator</th>\n",
       "    </tr>\n",
       "  </thead>\n",
       "  <tbody>\n",
       "    <tr>\n",
       "      <th>0</th>\n",
       "      <td>2ba6f357</td>\n",
       "      <td>2018-07-04 19:24:24</td>\n",
       "      <td>Android</td>\n",
       "      <td>Santa Cruz</td>\n",
       "      <td>Río Gallegos</td>\n",
       "      <td>male</td>\n",
       "      <td>13</td>\n",
       "      <td>17</td>\n",
       "      <td>1</td>\n",
       "      <td>2</td>\n",
       "      <td>0</td>\n",
       "      <td>1</td>\n",
       "      <td>1</td>\n",
       "      <td>0</td>\n",
       "    </tr>\n",
       "    <tr>\n",
       "      <th>1</th>\n",
       "      <td>3cb936c1</td>\n",
       "      <td>2018-06-30 13:41:29</td>\n",
       "      <td>Android</td>\n",
       "      <td>Corrientes</td>\n",
       "      <td>Corrientes</td>\n",
       "      <td>male</td>\n",
       "      <td>13</td>\n",
       "      <td>17</td>\n",
       "      <td>0</td>\n",
       "      <td>7</td>\n",
       "      <td>0</td>\n",
       "      <td>3</td>\n",
       "      <td>0</td>\n",
       "      <td>1</td>\n",
       "    </tr>\n",
       "    <tr>\n",
       "      <th>2</th>\n",
       "      <td>17d88bbc</td>\n",
       "      <td>2018-06-30 16:02:30</td>\n",
       "      <td>Android</td>\n",
       "      <td>Cordoba</td>\n",
       "      <td>Villa Carlos Paz</td>\n",
       "      <td>female</td>\n",
       "      <td>18</td>\n",
       "      <td>20</td>\n",
       "      <td>2</td>\n",
       "      <td>1</td>\n",
       "      <td>0</td>\n",
       "      <td>2</td>\n",
       "      <td>2</td>\n",
       "      <td>1</td>\n",
       "    </tr>\n",
       "    <tr>\n",
       "      <th>3</th>\n",
       "      <td>7baa10b6</td>\n",
       "      <td>2018-07-02 21:08:33</td>\n",
       "      <td>Android</td>\n",
       "      <td>Buenos Aires</td>\n",
       "      <td>Don Torcuato</td>\n",
       "      <td>female</td>\n",
       "      <td>13</td>\n",
       "      <td>17</td>\n",
       "      <td>5</td>\n",
       "      <td>6</td>\n",
       "      <td>0</td>\n",
       "      <td>2</td>\n",
       "      <td>5</td>\n",
       "      <td>0</td>\n",
       "    </tr>\n",
       "    <tr>\n",
       "      <th>4</th>\n",
       "      <td>120d379</td>\n",
       "      <td>2018-07-07 04:18:47</td>\n",
       "      <td>Android</td>\n",
       "      <td>Santiago del Estero</td>\n",
       "      <td>Santiago del Estero</td>\n",
       "      <td>female</td>\n",
       "      <td>13</td>\n",
       "      <td>17</td>\n",
       "      <td>8</td>\n",
       "      <td>12</td>\n",
       "      <td>0</td>\n",
       "      <td>2</td>\n",
       "      <td>3</td>\n",
       "      <td>0</td>\n",
       "    </tr>\n",
       "  </tbody>\n",
       "</table>\n",
       "</div>"
      ],
      "text/plain": [
       "    user_id         install_time platform       country_region  \\\n",
       "0  2ba6f357  2018-07-04 19:24:24  Android           Santa Cruz   \n",
       "1  3cb936c1  2018-06-30 13:41:29  Android           Corrientes   \n",
       "2  17d88bbc  2018-06-30 16:02:30  Android              Cordoba   \n",
       "3  7baa10b6  2018-07-02 21:08:33  Android         Buenos Aires   \n",
       "4   120d379  2018-07-07 04:18:47  Android  Santiago del Estero   \n",
       "\n",
       "                  city  gender  min_age_range  max_age_range  event_1  \\\n",
       "0         Río Gallegos    male             13             17        1   \n",
       "1           Corrientes    male             13             17        0   \n",
       "2     Villa Carlos Paz  female             18             20        2   \n",
       "3         Don Torcuato  female             13             17        5   \n",
       "4  Santiago del Estero  female             13             17        8   \n",
       "\n",
       "   event_2  event_3  event_4  event_5  target_churn_indicator  \n",
       "0        2        0        1        1                       0  \n",
       "1        7        0        3        0                       1  \n",
       "2        1        0        2        2                       1  \n",
       "3        6        0        2        5                       0  \n",
       "4       12        0        2        3                       0  "
      ]
     },
     "execution_count": 132,
     "metadata": {},
     "output_type": "execute_result"
    }
   ],
   "source": [
    "#Visualización de primeros valores en el dataset\n",
    "\n",
    "juego.head()"
   ]
  },
  {
   "cell_type": "code",
   "execution_count": 133,
   "metadata": {},
   "outputs": [
    {
     "data": {
      "text/html": [
       "<div>\n",
       "<style scoped>\n",
       "    .dataframe tbody tr th:only-of-type {\n",
       "        vertical-align: middle;\n",
       "    }\n",
       "\n",
       "    .dataframe tbody tr th {\n",
       "        vertical-align: top;\n",
       "    }\n",
       "\n",
       "    .dataframe thead th {\n",
       "        text-align: right;\n",
       "    }\n",
       "</style>\n",
       "<table border=\"1\" class=\"dataframe\">\n",
       "  <thead>\n",
       "    <tr style=\"text-align: right;\">\n",
       "      <th></th>\n",
       "      <th>user_id</th>\n",
       "      <th>install_time</th>\n",
       "      <th>platform</th>\n",
       "      <th>country_region</th>\n",
       "      <th>city</th>\n",
       "      <th>gender</th>\n",
       "      <th>min_age_range</th>\n",
       "      <th>max_age_range</th>\n",
       "      <th>event_1</th>\n",
       "      <th>event_2</th>\n",
       "      <th>event_3</th>\n",
       "      <th>event_4</th>\n",
       "      <th>event_5</th>\n",
       "      <th>target_churn_indicator</th>\n",
       "    </tr>\n",
       "  </thead>\n",
       "  <tbody>\n",
       "    <tr>\n",
       "      <th>19995</th>\n",
       "      <td>554e1347</td>\n",
       "      <td>2018-07-07 02:19:19</td>\n",
       "      <td>Android</td>\n",
       "      <td>Santa Fe</td>\n",
       "      <td>Aaron Castellanos</td>\n",
       "      <td>female</td>\n",
       "      <td>18</td>\n",
       "      <td>20</td>\n",
       "      <td>23</td>\n",
       "      <td>54</td>\n",
       "      <td>2</td>\n",
       "      <td>9</td>\n",
       "      <td>3</td>\n",
       "      <td>0</td>\n",
       "    </tr>\n",
       "    <tr>\n",
       "      <th>19996</th>\n",
       "      <td>795f035e</td>\n",
       "      <td>2018-07-05 18:49:59</td>\n",
       "      <td>Android</td>\n",
       "      <td>Santa Cruz</td>\n",
       "      <td>Caleta Olivia</td>\n",
       "      <td>male</td>\n",
       "      <td>18</td>\n",
       "      <td>20</td>\n",
       "      <td>37</td>\n",
       "      <td>45</td>\n",
       "      <td>1</td>\n",
       "      <td>6</td>\n",
       "      <td>6</td>\n",
       "      <td>0</td>\n",
       "    </tr>\n",
       "    <tr>\n",
       "      <th>19997</th>\n",
       "      <td>52acf7f9</td>\n",
       "      <td>2018-07-05 03:22:13</td>\n",
       "      <td>Android</td>\n",
       "      <td>Salta</td>\n",
       "      <td>Salta</td>\n",
       "      <td>female</td>\n",
       "      <td>13</td>\n",
       "      <td>17</td>\n",
       "      <td>3</td>\n",
       "      <td>4</td>\n",
       "      <td>0</td>\n",
       "      <td>1</td>\n",
       "      <td>3</td>\n",
       "      <td>1</td>\n",
       "    </tr>\n",
       "    <tr>\n",
       "      <th>19998</th>\n",
       "      <td>1674efa</td>\n",
       "      <td>2018-07-07 05:22:36</td>\n",
       "      <td>Android</td>\n",
       "      <td>Buenos Aires</td>\n",
       "      <td>Florencio Varela</td>\n",
       "      <td>male</td>\n",
       "      <td>13</td>\n",
       "      <td>17</td>\n",
       "      <td>54</td>\n",
       "      <td>62</td>\n",
       "      <td>2</td>\n",
       "      <td>17</td>\n",
       "      <td>14</td>\n",
       "      <td>0</td>\n",
       "    </tr>\n",
       "    <tr>\n",
       "      <th>19999</th>\n",
       "      <td>fb832bfb</td>\n",
       "      <td>2018-07-02 03:56:24</td>\n",
       "      <td>Android</td>\n",
       "      <td>Santiago del Estero</td>\n",
       "      <td>Santiago del Estero</td>\n",
       "      <td>female</td>\n",
       "      <td>13</td>\n",
       "      <td>17</td>\n",
       "      <td>20</td>\n",
       "      <td>20</td>\n",
       "      <td>1</td>\n",
       "      <td>6</td>\n",
       "      <td>7</td>\n",
       "      <td>0</td>\n",
       "    </tr>\n",
       "  </tbody>\n",
       "</table>\n",
       "</div>"
      ],
      "text/plain": [
       "        user_id         install_time platform       country_region  \\\n",
       "19995  554e1347  2018-07-07 02:19:19  Android             Santa Fe   \n",
       "19996  795f035e  2018-07-05 18:49:59  Android           Santa Cruz   \n",
       "19997  52acf7f9  2018-07-05 03:22:13  Android                Salta   \n",
       "19998   1674efa  2018-07-07 05:22:36  Android         Buenos Aires   \n",
       "19999  fb832bfb  2018-07-02 03:56:24  Android  Santiago del Estero   \n",
       "\n",
       "                      city  gender  min_age_range  max_age_range  event_1  \\\n",
       "19995    Aaron Castellanos  female             18             20       23   \n",
       "19996        Caleta Olivia    male             18             20       37   \n",
       "19997                Salta  female             13             17        3   \n",
       "19998     Florencio Varela    male             13             17       54   \n",
       "19999  Santiago del Estero  female             13             17       20   \n",
       "\n",
       "       event_2  event_3  event_4  event_5  target_churn_indicator  \n",
       "19995       54        2        9        3                       0  \n",
       "19996       45        1        6        6                       0  \n",
       "19997        4        0        1        3                       1  \n",
       "19998       62        2       17       14                       0  \n",
       "19999       20        1        6        7                       0  "
      ]
     },
     "execution_count": 133,
     "metadata": {},
     "output_type": "execute_result"
    }
   ],
   "source": [
    "#Visualización de los últimos valores en el dataset\n",
    "\n",
    "juego.tail()"
   ]
  },
  {
   "cell_type": "markdown",
   "metadata": {},
   "source": [
    "----------"
   ]
  },
  {
   "cell_type": "markdown",
   "metadata": {},
   "source": [
    "<h2>Second step: Data Cleaning</h2>"
   ]
  },
  {
   "cell_type": "markdown",
   "metadata": {},
   "source": [
    "<h5>Columna user_id</h5>"
   ]
  },
  {
   "cell_type": "code",
   "execution_count": 134,
   "metadata": {},
   "outputs": [
    {
     "name": "stdout",
     "output_type": "stream",
     "text": [
      "User id únicos: 18533\n"
     ]
    }
   ],
   "source": [
    "print(\"User id únicos: {}\".format(juego.user_id.nunique()))"
   ]
  },
  {
   "cell_type": "code",
   "execution_count": 135,
   "metadata": {},
   "outputs": [
    {
     "name": "stdout",
     "output_type": "stream",
     "text": [
      "User id totales en dataset: 20000\n"
     ]
    }
   ],
   "source": [
    "print(\"User id totales en dataset: {}\".format(juego.user_id.count()))"
   ]
  },
  {
   "cell_type": "markdown",
   "metadata": {},
   "source": [
    "<h5>Columna install_time</h5>"
   ]
  },
  {
   "cell_type": "code",
   "execution_count": 136,
   "metadata": {},
   "outputs": [
    {
     "data": {
      "text/plain": [
       "dtype('O')"
      ]
     },
     "execution_count": 136,
     "metadata": {},
     "output_type": "execute_result"
    }
   ],
   "source": [
    "#Tipo de columna\n",
    "\n",
    "juego.install_time.dtype"
   ]
  },
  {
   "cell_type": "code",
   "execution_count": 137,
   "metadata": {},
   "outputs": [],
   "source": [
    "#Estamos cambiando la info de objetc a datetime como corresponde\n",
    "\n",
    "juego['install_time'] = pd.to_datetime(juego['install_time'], format = \"%Y-%m-%d %H:%M:%S\")"
   ]
  },
  {
   "cell_type": "code",
   "execution_count": 138,
   "metadata": {},
   "outputs": [
    {
     "name": "stdout",
     "output_type": "stream",
     "text": [
      "Cambio ejecutado ok\n"
     ]
    }
   ],
   "source": [
    "#Chequeamos que esté bien \n",
    "\n",
    "if juego['install_time'].dtype == \"<M8[ns]\":\n",
    "    print('Cambio ejecutado ok')\n",
    "else:\n",
    "    print('Cambio no ejecutado. Revisar código')"
   ]
  },
  {
   "cell_type": "code",
   "execution_count": 139,
   "metadata": {},
   "outputs": [],
   "source": [
    "#Se procede a crear columnas para poder estudiar de forma posterior meses y horas del dataset\n",
    "\n",
    "juego['month'] = pd.DatetimeIndex(juego['install_time']).month\n",
    "juego['hour'] = pd.DatetimeIndex(juego['install_time']).hour"
   ]
  },
  {
   "cell_type": "code",
   "execution_count": 140,
   "metadata": {},
   "outputs": [
    {
     "name": "stdout",
     "output_type": "stream",
     "text": [
      "<class 'pandas.core.frame.DataFrame'>\n",
      "RangeIndex: 20000 entries, 0 to 19999\n",
      "Data columns (total 16 columns):\n",
      " #   Column                  Non-Null Count  Dtype         \n",
      "---  ------                  --------------  -----         \n",
      " 0   user_id                 20000 non-null  object        \n",
      " 1   install_time            20000 non-null  datetime64[ns]\n",
      " 2   platform                20000 non-null  object        \n",
      " 3   country_region          19521 non-null  object        \n",
      " 4   city                    19065 non-null  object        \n",
      " 5   gender                  20000 non-null  object        \n",
      " 6   min_age_range           20000 non-null  int64         \n",
      " 7   max_age_range           20000 non-null  int64         \n",
      " 8   event_1                 20000 non-null  int64         \n",
      " 9   event_2                 20000 non-null  int64         \n",
      " 10  event_3                 20000 non-null  int64         \n",
      " 11  event_4                 20000 non-null  int64         \n",
      " 12  event_5                 20000 non-null  int64         \n",
      " 13  target_churn_indicator  20000 non-null  int64         \n",
      " 14  month                   20000 non-null  int64         \n",
      " 15  hour                    20000 non-null  int64         \n",
      "dtypes: datetime64[ns](1), int64(10), object(5)\n",
      "memory usage: 2.4+ MB\n"
     ]
    }
   ],
   "source": [
    "#Chequeamos que se produzcan los datos \n",
    "\n",
    "juego.info()\n",
    "\n",
    "#A estas columnas las dejo como entero por ser de mi interes que queden asi"
   ]
  },
  {
   "cell_type": "markdown",
   "metadata": {},
   "source": [
    "<h5>Columna platform </h5>"
   ]
  },
  {
   "cell_type": "code",
   "execution_count": 141,
   "metadata": {},
   "outputs": [
    {
     "data": {
      "text/plain": [
       "Android    19512\n",
       "iOS          488\n",
       "Name: platform, dtype: int64"
      ]
     },
     "execution_count": 141,
     "metadata": {},
     "output_type": "execute_result"
    }
   ],
   "source": [
    "juego.platform.value_counts()"
   ]
  },
  {
   "cell_type": "markdown",
   "metadata": {},
   "source": [
    "<p>No se observan problemas de nomenclatura, hay dos categorías correctamente identificables para su analisis</p>"
   ]
  },
  {
   "cell_type": "markdown",
   "metadata": {},
   "source": [
    "<h5>Columna Country Region</h5>"
   ]
  },
  {
   "cell_type": "code",
   "execution_count": 142,
   "metadata": {},
   "outputs": [
    {
     "data": {
      "text/plain": [
       "Buenos Aires           6831\n",
       "Buenos Aires F.D.      3115\n",
       "Cordoba                1898\n",
       "Entre Rios             1138\n",
       "Santa Fe                884\n",
       "Tucuman                 782\n",
       "Mendoza                 686\n",
       "Salta                   684\n",
       "Chaco                   391\n",
       "Misiones                355\n",
       "Corrientes              331\n",
       "Neuquen                 259\n",
       "Santiago del Estero     234\n",
       "San Luis                234\n",
       "Formosa                 212\n",
       "La Rioja                208\n",
       "Rio Negro               207\n",
       "San Juan                200\n",
       "Jujuy                   189\n",
       "Chubut                  180\n",
       "La Pampa                164\n",
       "Catamarca               140\n",
       "Santa Cruz              103\n",
       "Tierra del Fuego         70\n",
       "Entre Ríos Province      15\n",
       "Neuquén Province          2\n",
       "Santa Fe Province         2\n",
       "Cordoba Province          2\n",
       "Río Negro Province        1\n",
       "Chubut Province           1\n",
       "Chaco Province            1\n",
       "Salta Province            1\n",
       "Tucumán Province          1\n",
       "Name: country_region, dtype: int64"
      ]
     },
     "execution_count": 142,
     "metadata": {},
     "output_type": "execute_result"
    }
   ],
   "source": [
    "juego.country_region.value_counts()"
   ]
  },
  {
   "cell_type": "code",
   "execution_count": 120,
   "metadata": {},
   "outputs": [],
   "source": [
    "#Funcion a utilizar posteriormente\n",
    "\n",
    "def reemplaza_variables(x,y,z):\n",
    "    juego[x] = juego[x].str.replace(y, z)"
   ]
  },
  {
   "cell_type": "code",
   "execution_count": 143,
   "metadata": {},
   "outputs": [],
   "source": [
    "#Se corrigen errores en cuanto a la nomenclatura de distintos datos para unificar y poder analizar luego correctamente\n",
    "\n",
    "reemplaza_variables('country_region', 'Buenos Aires F.D.', 'CABA')\n",
    "reemplaza_variables('country_region', 'Entre Ríos Province', 'Entre Rios')\n",
    "reemplaza_variables('country_region', 'Neuquén Province', 'Neuquen')\n",
    "reemplaza_variables('country_region', 'Santa Fe Province', 'Santa Fe')\n",
    "reemplaza_variables('country_region', 'Cordoba Province', 'Cordoba')\n",
    "reemplaza_variables('country_region', 'Río Negro Province', 'Rio Negro')\n",
    "reemplaza_variables('country_region', 'Chubut Province', 'Chubut')\n",
    "reemplaza_variables('country_region', 'Chaco Province', 'Chaco')\n",
    "reemplaza_variables('country_region', 'Salta Province', 'Salta')\n",
    "reemplaza_variables('country_region', 'Tucumán Province', 'Tucuman')"
   ]
  },
  {
   "cell_type": "code",
   "execution_count": 146,
   "metadata": {},
   "outputs": [
    {
     "data": {
      "text/plain": [
       "24"
      ]
     },
     "execution_count": 146,
     "metadata": {},
     "output_type": "execute_result"
    }
   ],
   "source": [
    "juego.country_region.value_counts().count()"
   ]
  },
  {
   "cell_type": "markdown",
   "metadata": {},
   "source": [
    "<p><strong>24</strong> son las provincias a analizar en el país por lo que estaríamos en el número correcto para el análisis</p>"
   ]
  },
  {
   "cell_type": "markdown",
   "metadata": {},
   "source": [
    "<h5>Columna city</h5>"
   ]
  },
  {
   "cell_type": "code",
   "execution_count": 151,
   "metadata": {},
   "outputs": [
    {
     "data": {
      "text/plain": [
       "Buenos Aires              2626\n",
       "Córdoba                   1188\n",
       "Villa Angelica             751\n",
       "San Miguel de Tucumán      675\n",
       "Salta                      597\n",
       "                          ... \n",
       "Rosario de la Frontera       1\n",
       "Arroyo Algodon               1\n",
       "Villa Rio Bermejito          1\n",
       "General La Madrid            1\n",
       "Buchardo                     1\n",
       "Name: city, Length: 772, dtype: int64"
      ]
     },
     "execution_count": 151,
     "metadata": {},
     "output_type": "execute_result"
    }
   ],
   "source": [
    "juego.city.value_counts()"
   ]
  },
  {
   "cell_type": "markdown",
   "metadata": {},
   "source": [
    "<p>En esta columna se observa la nomenclatura de las ciudades de forma correcta, por lo que se decide continuar con la siguiente<p>"
   ]
  },
  {
   "cell_type": "markdown",
   "metadata": {},
   "source": [
    "<h5>Columna género</h5>"
   ]
  },
  {
   "cell_type": "code",
   "execution_count": 152,
   "metadata": {},
   "outputs": [
    {
     "data": {
      "text/plain": [
       "female     10835\n",
       "male        8992\n",
       "unknown      173\n",
       "Name: gender, dtype: int64"
      ]
     },
     "execution_count": 152,
     "metadata": {},
     "output_type": "execute_result"
    }
   ],
   "source": [
    "juego.gender.value_counts()"
   ]
  },
  {
   "cell_type": "markdown",
   "metadata": {},
   "source": [
    "<p>En esta columna, los denominados <strong>unknown</strong> son aceptables aunque también podrían ser considerados como valores nulos en un análisis estricto de la información. En este proyecto <strong> no lo vamos a considerar como valores nulos </strong>"
   ]
  },
  {
   "cell_type": "markdown",
   "metadata": {},
   "source": [
    "### En columnas numéricas de nuestro dataset mostradas a continuación, no se observan anomalías o presencia de valores extraños que no sean los deseables en la muestra"
   ]
  },
  {
   "cell_type": "code",
   "execution_count": 153,
   "metadata": {},
   "outputs": [
    {
     "data": {
      "text/plain": [
       "18    12546\n",
       "13     7430\n",
       "21       17\n",
       "20        4\n",
       "17        3\n",
       "Name: min_age_range, dtype: int64"
      ]
     },
     "execution_count": 153,
     "metadata": {},
     "output_type": "execute_result"
    }
   ],
   "source": [
    "juego.min_age_range.value_counts()"
   ]
  },
  {
   "cell_type": "code",
   "execution_count": 154,
   "metadata": {},
   "outputs": [
    {
     "data": {
      "text/plain": [
       "20    12561\n",
       "17     7436\n",
       "18        2\n",
       "13        1\n",
       "Name: max_age_range, dtype: int64"
      ]
     },
     "execution_count": 154,
     "metadata": {},
     "output_type": "execute_result"
    }
   ],
   "source": [
    "juego.max_age_range.value_counts()"
   ]
  },
  {
   "cell_type": "code",
   "execution_count": 155,
   "metadata": {},
   "outputs": [
    {
     "data": {
      "text/plain": [
       "1      1936\n",
       "3      1857\n",
       "2      1797\n",
       "0      1470\n",
       "4      1252\n",
       "       ... \n",
       "165       1\n",
       "133       1\n",
       "164       1\n",
       "179       1\n",
       "135       1\n",
       "Name: event_1, Length: 161, dtype: int64"
      ]
     },
     "execution_count": 155,
     "metadata": {},
     "output_type": "execute_result"
    }
   ],
   "source": [
    "juego.event_1.value_counts()"
   ]
  },
  {
   "cell_type": "code",
   "execution_count": 156,
   "metadata": {},
   "outputs": [
    {
     "data": {
      "text/plain": [
       "0      1633\n",
       "1      1392\n",
       "2      1298\n",
       "3      1291\n",
       "4      1043\n",
       "       ... \n",
       "214       1\n",
       "278       1\n",
       "223       1\n",
       "247       1\n",
       "183       1\n",
       "Name: event_2, Length: 216, dtype: int64"
      ]
     },
     "execution_count": 156,
     "metadata": {},
     "output_type": "execute_result"
    }
   ],
   "source": [
    "juego.event_2.value_counts()"
   ]
  },
  {
   "cell_type": "code",
   "execution_count": 157,
   "metadata": {},
   "outputs": [
    {
     "data": {
      "text/plain": [
       "0     14918\n",
       "1      2646\n",
       "2      1144\n",
       "3       583\n",
       "4       315\n",
       "5       161\n",
       "6        92\n",
       "7        53\n",
       "8        39\n",
       "9        16\n",
       "10        9\n",
       "12        9\n",
       "11        6\n",
       "20        2\n",
       "13        2\n",
       "14        1\n",
       "18        1\n",
       "17        1\n",
       "16        1\n",
       "15        1\n",
       "Name: event_3, dtype: int64"
      ]
     },
     "execution_count": 157,
     "metadata": {},
     "output_type": "execute_result"
    }
   ],
   "source": [
    "juego.event_3.value_counts()"
   ]
  },
  {
   "cell_type": "code",
   "execution_count": 158,
   "metadata": {},
   "outputs": [
    {
     "data": {
      "text/plain": [
       "3     3370\n",
       "2     3171\n",
       "1     3154\n",
       "4     2135\n",
       "5     1491\n",
       "0     1443\n",
       "6     1138\n",
       "7      857\n",
       "8      646\n",
       "9      496\n",
       "10     379\n",
       "11     305\n",
       "12     249\n",
       "13     197\n",
       "14     177\n",
       "16     137\n",
       "15     121\n",
       "18      79\n",
       "17      79\n",
       "19      73\n",
       "20      50\n",
       "21      35\n",
       "24      32\n",
       "23      31\n",
       "22      31\n",
       "26      26\n",
       "25      17\n",
       "27      16\n",
       "28      13\n",
       "30      10\n",
       "32       7\n",
       "29       5\n",
       "38       4\n",
       "31       4\n",
       "35       3\n",
       "36       2\n",
       "39       2\n",
       "33       2\n",
       "42       2\n",
       "48       2\n",
       "43       2\n",
       "51       1\n",
       "50       1\n",
       "34       1\n",
       "40       1\n",
       "64       1\n",
       "46       1\n",
       "47       1\n",
       "Name: event_5, dtype: int64"
      ]
     },
     "execution_count": 158,
     "metadata": {},
     "output_type": "execute_result"
    }
   ],
   "source": [
    "juego.event_5.value_counts()"
   ]
  },
  {
   "cell_type": "code",
   "execution_count": 159,
   "metadata": {},
   "outputs": [
    {
     "data": {
      "text/plain": [
       "1    10814\n",
       "0     9186\n",
       "Name: target_churn_indicator, dtype: int64"
      ]
     },
     "execution_count": 159,
     "metadata": {},
     "output_type": "execute_result"
    }
   ],
   "source": [
    "juego.target_churn_indicator.value_counts()"
   ]
  },
  {
   "cell_type": "markdown",
   "metadata": {},
   "source": [
    "------"
   ]
  },
  {
   "cell_type": "markdown",
   "metadata": {},
   "source": [
    "<h2>Data Insights</h2>"
   ]
  },
  {
   "cell_type": "code",
   "execution_count": 160,
   "metadata": {},
   "outputs": [
    {
     "data": {
      "text/html": [
       "<div>\n",
       "<style scoped>\n",
       "    .dataframe tbody tr th:only-of-type {\n",
       "        vertical-align: middle;\n",
       "    }\n",
       "\n",
       "    .dataframe tbody tr th {\n",
       "        vertical-align: top;\n",
       "    }\n",
       "\n",
       "    .dataframe thead th {\n",
       "        text-align: right;\n",
       "    }\n",
       "</style>\n",
       "<table border=\"1\" class=\"dataframe\">\n",
       "  <thead>\n",
       "    <tr style=\"text-align: right;\">\n",
       "      <th></th>\n",
       "      <th>user_id</th>\n",
       "      <th>install_time</th>\n",
       "      <th>platform</th>\n",
       "      <th>country_region</th>\n",
       "      <th>city</th>\n",
       "      <th>gender</th>\n",
       "      <th>min_age_range</th>\n",
       "      <th>max_age_range</th>\n",
       "      <th>event_1</th>\n",
       "      <th>event_2</th>\n",
       "      <th>event_3</th>\n",
       "      <th>event_4</th>\n",
       "      <th>event_5</th>\n",
       "      <th>target_churn_indicator</th>\n",
       "      <th>month</th>\n",
       "      <th>hour</th>\n",
       "    </tr>\n",
       "  </thead>\n",
       "  <tbody>\n",
       "    <tr>\n",
       "      <th>0</th>\n",
       "      <td>2ba6f357</td>\n",
       "      <td>2018-07-04 19:24:24</td>\n",
       "      <td>Android</td>\n",
       "      <td>Santa Cruz</td>\n",
       "      <td>Río Gallegos</td>\n",
       "      <td>male</td>\n",
       "      <td>13</td>\n",
       "      <td>17</td>\n",
       "      <td>1</td>\n",
       "      <td>2</td>\n",
       "      <td>0</td>\n",
       "      <td>1</td>\n",
       "      <td>1</td>\n",
       "      <td>0</td>\n",
       "      <td>7</td>\n",
       "      <td>19</td>\n",
       "    </tr>\n",
       "    <tr>\n",
       "      <th>1</th>\n",
       "      <td>3cb936c1</td>\n",
       "      <td>2018-06-30 13:41:29</td>\n",
       "      <td>Android</td>\n",
       "      <td>Corrientes</td>\n",
       "      <td>Corrientes</td>\n",
       "      <td>male</td>\n",
       "      <td>13</td>\n",
       "      <td>17</td>\n",
       "      <td>0</td>\n",
       "      <td>7</td>\n",
       "      <td>0</td>\n",
       "      <td>3</td>\n",
       "      <td>0</td>\n",
       "      <td>1</td>\n",
       "      <td>6</td>\n",
       "      <td>13</td>\n",
       "    </tr>\n",
       "    <tr>\n",
       "      <th>2</th>\n",
       "      <td>17d88bbc</td>\n",
       "      <td>2018-06-30 16:02:30</td>\n",
       "      <td>Android</td>\n",
       "      <td>Cordoba</td>\n",
       "      <td>Villa Carlos Paz</td>\n",
       "      <td>female</td>\n",
       "      <td>18</td>\n",
       "      <td>20</td>\n",
       "      <td>2</td>\n",
       "      <td>1</td>\n",
       "      <td>0</td>\n",
       "      <td>2</td>\n",
       "      <td>2</td>\n",
       "      <td>1</td>\n",
       "      <td>6</td>\n",
       "      <td>16</td>\n",
       "    </tr>\n",
       "    <tr>\n",
       "      <th>3</th>\n",
       "      <td>7baa10b6</td>\n",
       "      <td>2018-07-02 21:08:33</td>\n",
       "      <td>Android</td>\n",
       "      <td>Buenos Aires</td>\n",
       "      <td>Don Torcuato</td>\n",
       "      <td>female</td>\n",
       "      <td>13</td>\n",
       "      <td>17</td>\n",
       "      <td>5</td>\n",
       "      <td>6</td>\n",
       "      <td>0</td>\n",
       "      <td>2</td>\n",
       "      <td>5</td>\n",
       "      <td>0</td>\n",
       "      <td>7</td>\n",
       "      <td>21</td>\n",
       "    </tr>\n",
       "    <tr>\n",
       "      <th>4</th>\n",
       "      <td>120d379</td>\n",
       "      <td>2018-07-07 04:18:47</td>\n",
       "      <td>Android</td>\n",
       "      <td>Santiago del Estero</td>\n",
       "      <td>Santiago del Estero</td>\n",
       "      <td>female</td>\n",
       "      <td>13</td>\n",
       "      <td>17</td>\n",
       "      <td>8</td>\n",
       "      <td>12</td>\n",
       "      <td>0</td>\n",
       "      <td>2</td>\n",
       "      <td>3</td>\n",
       "      <td>0</td>\n",
       "      <td>7</td>\n",
       "      <td>4</td>\n",
       "    </tr>\n",
       "  </tbody>\n",
       "</table>\n",
       "</div>"
      ],
      "text/plain": [
       "    user_id        install_time platform       country_region  \\\n",
       "0  2ba6f357 2018-07-04 19:24:24  Android           Santa Cruz   \n",
       "1  3cb936c1 2018-06-30 13:41:29  Android           Corrientes   \n",
       "2  17d88bbc 2018-06-30 16:02:30  Android              Cordoba   \n",
       "3  7baa10b6 2018-07-02 21:08:33  Android         Buenos Aires   \n",
       "4   120d379 2018-07-07 04:18:47  Android  Santiago del Estero   \n",
       "\n",
       "                  city  gender  min_age_range  max_age_range  event_1  \\\n",
       "0         Río Gallegos    male             13             17        1   \n",
       "1           Corrientes    male             13             17        0   \n",
       "2     Villa Carlos Paz  female             18             20        2   \n",
       "3         Don Torcuato  female             13             17        5   \n",
       "4  Santiago del Estero  female             13             17        8   \n",
       "\n",
       "   event_2  event_3  event_4  event_5  target_churn_indicator  month  hour  \n",
       "0        2        0        1        1                       0      7    19  \n",
       "1        7        0        3        0                       1      6    13  \n",
       "2        1        0        2        2                       1      6    16  \n",
       "3        6        0        2        5                       0      7    21  \n",
       "4       12        0        2        3                       0      7     4  "
      ]
     },
     "execution_count": 160,
     "metadata": {},
     "output_type": "execute_result"
    }
   ],
   "source": [
    "juego.head()"
   ]
  },
  {
   "cell_type": "code",
   "execution_count": 167,
   "metadata": {},
   "outputs": [
    {
     "data": {
      "text/html": [
       "<div>\n",
       "<style scoped>\n",
       "    .dataframe tbody tr th:only-of-type {\n",
       "        vertical-align: middle;\n",
       "    }\n",
       "\n",
       "    .dataframe tbody tr th {\n",
       "        vertical-align: top;\n",
       "    }\n",
       "\n",
       "    .dataframe thead th {\n",
       "        text-align: right;\n",
       "    }\n",
       "</style>\n",
       "<table border=\"1\" class=\"dataframe\">\n",
       "  <thead>\n",
       "    <tr style=\"text-align: right;\">\n",
       "      <th></th>\n",
       "      <th>user_id</th>\n",
       "      <th>install_time</th>\n",
       "      <th>platform</th>\n",
       "      <th>country_region</th>\n",
       "      <th>city</th>\n",
       "      <th>gender</th>\n",
       "      <th>min_age_range</th>\n",
       "      <th>max_age_range</th>\n",
       "      <th>event_1</th>\n",
       "      <th>event_2</th>\n",
       "      <th>event_3</th>\n",
       "      <th>event_4</th>\n",
       "      <th>event_5</th>\n",
       "      <th>target_churn_indicator</th>\n",
       "      <th>month</th>\n",
       "      <th>hour</th>\n",
       "    </tr>\n",
       "  </thead>\n",
       "  <tbody>\n",
       "    <tr>\n",
       "      <th>19995</th>\n",
       "      <td>554e1347</td>\n",
       "      <td>2018-07-07 02:19:19</td>\n",
       "      <td>Android</td>\n",
       "      <td>Santa Fe</td>\n",
       "      <td>Aaron Castellanos</td>\n",
       "      <td>female</td>\n",
       "      <td>18</td>\n",
       "      <td>20</td>\n",
       "      <td>23</td>\n",
       "      <td>54</td>\n",
       "      <td>2</td>\n",
       "      <td>9</td>\n",
       "      <td>3</td>\n",
       "      <td>0</td>\n",
       "      <td>7</td>\n",
       "      <td>2</td>\n",
       "    </tr>\n",
       "    <tr>\n",
       "      <th>19996</th>\n",
       "      <td>795f035e</td>\n",
       "      <td>2018-07-05 18:49:59</td>\n",
       "      <td>Android</td>\n",
       "      <td>Santa Cruz</td>\n",
       "      <td>Caleta Olivia</td>\n",
       "      <td>male</td>\n",
       "      <td>18</td>\n",
       "      <td>20</td>\n",
       "      <td>37</td>\n",
       "      <td>45</td>\n",
       "      <td>1</td>\n",
       "      <td>6</td>\n",
       "      <td>6</td>\n",
       "      <td>0</td>\n",
       "      <td>7</td>\n",
       "      <td>18</td>\n",
       "    </tr>\n",
       "    <tr>\n",
       "      <th>19997</th>\n",
       "      <td>52acf7f9</td>\n",
       "      <td>2018-07-05 03:22:13</td>\n",
       "      <td>Android</td>\n",
       "      <td>Salta</td>\n",
       "      <td>Salta</td>\n",
       "      <td>female</td>\n",
       "      <td>13</td>\n",
       "      <td>17</td>\n",
       "      <td>3</td>\n",
       "      <td>4</td>\n",
       "      <td>0</td>\n",
       "      <td>1</td>\n",
       "      <td>3</td>\n",
       "      <td>1</td>\n",
       "      <td>7</td>\n",
       "      <td>3</td>\n",
       "    </tr>\n",
       "    <tr>\n",
       "      <th>19998</th>\n",
       "      <td>1674efa</td>\n",
       "      <td>2018-07-07 05:22:36</td>\n",
       "      <td>Android</td>\n",
       "      <td>Buenos Aires</td>\n",
       "      <td>Florencio Varela</td>\n",
       "      <td>male</td>\n",
       "      <td>13</td>\n",
       "      <td>17</td>\n",
       "      <td>54</td>\n",
       "      <td>62</td>\n",
       "      <td>2</td>\n",
       "      <td>17</td>\n",
       "      <td>14</td>\n",
       "      <td>0</td>\n",
       "      <td>7</td>\n",
       "      <td>5</td>\n",
       "    </tr>\n",
       "    <tr>\n",
       "      <th>19999</th>\n",
       "      <td>fb832bfb</td>\n",
       "      <td>2018-07-02 03:56:24</td>\n",
       "      <td>Android</td>\n",
       "      <td>Santiago del Estero</td>\n",
       "      <td>Santiago del Estero</td>\n",
       "      <td>female</td>\n",
       "      <td>13</td>\n",
       "      <td>17</td>\n",
       "      <td>20</td>\n",
       "      <td>20</td>\n",
       "      <td>1</td>\n",
       "      <td>6</td>\n",
       "      <td>7</td>\n",
       "      <td>0</td>\n",
       "      <td>7</td>\n",
       "      <td>3</td>\n",
       "    </tr>\n",
       "  </tbody>\n",
       "</table>\n",
       "</div>"
      ],
      "text/plain": [
       "        user_id        install_time platform       country_region  \\\n",
       "19995  554e1347 2018-07-07 02:19:19  Android             Santa Fe   \n",
       "19996  795f035e 2018-07-05 18:49:59  Android           Santa Cruz   \n",
       "19997  52acf7f9 2018-07-05 03:22:13  Android                Salta   \n",
       "19998   1674efa 2018-07-07 05:22:36  Android         Buenos Aires   \n",
       "19999  fb832bfb 2018-07-02 03:56:24  Android  Santiago del Estero   \n",
       "\n",
       "                      city  gender  min_age_range  max_age_range  event_1  \\\n",
       "19995    Aaron Castellanos  female             18             20       23   \n",
       "19996        Caleta Olivia    male             18             20       37   \n",
       "19997                Salta  female             13             17        3   \n",
       "19998     Florencio Varela    male             13             17       54   \n",
       "19999  Santiago del Estero  female             13             17       20   \n",
       "\n",
       "       event_2  event_3  event_4  event_5  target_churn_indicator  month  hour  \n",
       "19995       54        2        9        3                       0      7     2  \n",
       "19996       45        1        6        6                       0      7    18  \n",
       "19997        4        0        1        3                       1      7     3  \n",
       "19998       62        2       17       14                       0      7     5  \n",
       "19999       20        1        6        7                       0      7     3  "
      ]
     },
     "execution_count": 167,
     "metadata": {},
     "output_type": "execute_result"
    }
   ],
   "source": [
    "juego.tail()"
   ]
  },
  {
   "cell_type": "code",
   "execution_count": null,
   "metadata": {},
   "outputs": [],
   "source": []
  }
 ],
 "metadata": {
  "kernelspec": {
   "display_name": "Python 3",
   "language": "python",
   "name": "python3"
  },
  "language_info": {
   "codemirror_mode": {
    "name": "ipython",
    "version": 3
   },
   "file_extension": ".py",
   "mimetype": "text/x-python",
   "name": "python",
   "nbconvert_exporter": "python",
   "pygments_lexer": "ipython3",
   "version": "3.6.9"
  }
 },
 "nbformat": 4,
 "nbformat_minor": 4
}
